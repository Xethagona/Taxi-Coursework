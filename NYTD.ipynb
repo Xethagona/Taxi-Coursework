{
 "cells": [
  {
   "cell_type": "markdown",
   "metadata": {},
   "source": [
    "Connor did this... you're welcome "
   ]
  },
  {
   "cell_type": "markdown",
   "metadata": {},
   "source": [
    "Download data https://www.kaggle.com/c/nyc-taxi-trip-duration/data"
   ]
  },
  {
   "cell_type": "code",
   "execution_count": 1,
   "metadata": {},
   "outputs": [],
   "source": [
    "#Add ya code here\n",
    "import numpy as np \n",
    "import pandas as pd\n",
    "import matplotlib.pyplot as plt\n",
    "\n",
    "train = pd.read_csv(\"train.csv\", header=0)\n",
    "test = pd.read_csv(\"test.csv\", header=0)\n",
    "#print(train.columns)\n",
    "#print(test.columns)"
   ]
  },
  {
   "cell_type": "code",
   "execution_count": 16,
   "metadata": {},
   "outputs": [
    {
     "name": "stdout",
     "output_type": "stream",
     "text": [
      "Taining total set size: 1458644\n",
      "Training set size: 1093984\n",
      "Test set size: 364661\n"
     ]
    }
   ],
   "source": [
    "# train split to 75/25\n",
    "\n",
    "split = len(train) * 0.75\n",
    "\n",
    "train_train = train.loc[:split,:]\n",
    "train_test = train.loc[split:,:]\n",
    "\n",
    "print('Taining total set size:',train.shape[0])\n",
    "print('Training set size:', train_train.shape[0])\n",
    "print('Test set size:', train_test.shape[0])"
   ]
  },
  {
   "cell_type": "code",
   "execution_count": 10,
   "metadata": {},
   "outputs": [
    {
     "name": "stdout",
     "output_type": "stream",
     "text": [
      "Taining total set size: 1458644\n",
      "Training set size: 1093983\n",
      "Test set size: 364661\n"
     ]
    }
   ],
   "source": [
    "from sklearn.model_selection import train_test_split\n",
    "\n",
    "X_train, X_test = train_test_split(train, test_size=0.25)\n",
    "\n",
    "print('Taining total set size:',train.shape[0])\n",
    "print('Training set size:', X_train.shape[0])\n",
    "print('Test set size:', X_test.shape[0])"
   ]
  },
  {
   "cell_type": "code",
   "execution_count": null,
   "metadata": {},
   "outputs": [],
   "source": []
  }
 ],
 "metadata": {
  "kernelspec": {
   "display_name": "Python 3",
   "language": "python",
   "name": "python3"
  },
  "language_info": {
   "codemirror_mode": {
    "name": "ipython",
    "version": 3
   },
   "file_extension": ".py",
   "mimetype": "text/x-python",
   "name": "python",
   "nbconvert_exporter": "python",
   "pygments_lexer": "ipython3",
   "version": "3.6.6"
  }
 },
 "nbformat": 4,
 "nbformat_minor": 2
}
