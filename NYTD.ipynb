{
 "cells": [
  {
   "cell_type": "markdown",
   "metadata": {},
   "source": [
    "<img src=\"images/backdrop.png\">\n",
    " \n",
    " \n",
    "### Dates/Deadlines\n",
    "\n",
    "Code: <i>05/05/2019 (one week before submission)</i><br />\n",
    "Report: <i>12/05/2019 (12:00 - noon)</i><br />\n",
    "\n",
    "\n",
    "### Tasks that need doing\n",
    " * Plot map of Manhatten \n",
    " * Create accuracy checker thing\n",
    " * Calculate distance between pick up and drop of (haversine)\n",
    " * Create method to plot actual vs predicted\n",
    " * Determine if holidays and weekends affect the trip duration\n",
    " * Perform PCA on dataset\n",
    " * Train model using XGBoost\n",
    " * Train Model using ... (Caitlin)\n",
    " * Train Model using Ada Boost (Tze-yi)\n",
    " * Train Model using KNN (Runyu)\n",
    " * Train Model using random forest or neural network (Leyan)\n",
    " * Compare results of all regression methods\n",
    " \n",
    " \n",
    "### Code consistency - Important\n",
    "\n",
    "When programming your respective models, can you call your training method <b>train()</b> and testing method <b>test()</b>. That way we'll be able to call them from a single combining method (Frankenstein's Monster Regression Model). If you would rather call them something else, just let me know and we can disucss.\n",
    " \n",
    "### Report\n",
    "\n",
    "<p>We need to submit seperate reports, so everyone needs to have enough to do and everyone needs enough time to write about what it is we have done</p>\n",
    "\n",
    " * \"Each team member submits their own independent write up. They also submit all of the code for the entire team. You may want to use the universities github service\"\n",
    " * \"The report has a 3000 word limit and must be a pdf file\"\n",
    " \n",
    "### Mark Scheme\n",
    "\n",
    "The key aim here is to go beyond ‘off-the-shelf’, that is, you need to implement a solution\n",
    "that is justifiably customised to the problem to get full marks. This doesn’t necessarily mean\n",
    "the machine learning algorithms are unique, but that the approach as a whole is. This can\n",
    "include feature design, combining multiple algorithms (system or ensemble), using further\n",
    "data, sneaky tricks etc. You get marks for being smart, not for being complicated.\n",
    "This project is worth 30% of your marks for the unit: <br />\n",
    "\n",
    " *  <b>5 marks</b>: Clearly explaining the problem and identifying ways to go beyond a problem-agnostic machine learning approach.\n",
    " * <b>5 marks</b>: Clearly explaining the solution(s) of your team as a whole, including identifying which details of the problem it exploits and how.\n",
    " * <b>10 marks</b>: A technical write up of the module(s) you contributed to your team. What they contribute, how they work, technical details. If they have a model give it; summarise any optimisation that occurs.\n",
    " * <b>10 marks</b>: Iterative evidence driven improvement, e.g. using the results of experiments to identify weaknesses with the current solution, proposing and implementing fixes, and then verifying via further experiments. While you write this section yourself it may discuss everything done within the team.\n",
    " \n",
    "for a total of <b>30 marks</b>\n",
    "\n",
    " \n",
    "### Links\n",
    "\n",
    "[Data](https://www.kaggle.com/c/nyc-taxi-trip-duration/data)<br />\n",
    "[GitHub](https://github.com/Xethagona/Taxi-Coursework)<br />\n",
    "[Spreadsheet](https://docs.google.com/spreadsheets/d/1oDq2rzWd1lVhdg2UYh2J4zRbN8XWPYKDrr4scczLoog/edit?usp=sharing)\n",
    "\n",
    "\n",
    "### Comments\n",
    "\n",
    " * I'd recommend labelling and titling your graphs\n",
    " * A few more comments in the code would be nice, not sure where some numbers have come from"
   ]
  },
  {
   "cell_type": "code",
   "execution_count": 1,
   "metadata": {},
   "outputs": [],
   "source": [
    "#Importing\n",
    "import numpy as np \n",
    "import pandas as pd\n",
    "import matplotlib.pyplot as plt\n",
    "import zipfile\n",
    "import math\n",
    "import xgboost as xgb\n",
    "\n",
    "from sklearn.model_selection import train_test_split\n",
    "\n",
    "%matplotlib inline"
   ]
  },
  {
   "cell_type": "markdown",
   "metadata": {},
   "source": [
    "### Reading data from ZIP and converting to Pandas\n",
    "\n",
    "Keeping the training and testing dataset as zip files reduces the file size "
   ]
  },
  {
   "cell_type": "code",
   "execution_count": 2,
   "metadata": {},
   "outputs": [],
   "source": [
    "#Creating zipFile instances \n",
    "training_zip = zipfile.ZipFile('train.zip') \n",
    "testing_zip = zipfile.ZipFile('test.zip') \n",
    "weather_zip = zipfile.ZipFile('2016-weather.zip')\n",
    "weather_hourly_zip = zipfile.ZipFile('2016-hourlyWeather.zip')\n",
    "fastest_route_test_zip = zipfile.ZipFile('fastest_routes_test.zip')\n",
    "fastest_route_train_1_zip = zipfile.ZipFile('fastest_routes_train_part_1.zip')\n",
    "fastest_route_train_2_zip = zipfile.ZipFile('fastest_routes_train_part_2_new.zip')\n",
    "fastest_route_train_3_zip = zipfile.ZipFile('fastest_routes_train_part_3_new.zip')\n",
    "stormWarning_zip = zipfile.ZipFile('NY_Storm_Events_2016.zip')\n",
    "\n",
    "#Reading CSV file from zipFile instance \n",
    "train = pd.read_csv(training_zip.open('train.csv'))\n",
    "test = pd.read_csv(testing_zip.open('test.csv'))\n",
    "weather = pd.read_csv(weather_zip.open('weather_data_nyc_centralpark_2016(1).csv'))\n",
    "weather_hourly = pd.read_csv(weather_hourly_zip.open('Weather.csv'))\n",
    "fastest_route_test = pd.read_csv(fastest_route_test_zip.open('fastest_routes_test.csv'))\n",
    "fastest_route_train_1 = pd.read_csv(fastest_route_train_1_zip.open('fastest_routes_train_part_1.csv'))\n",
    "fastest_route_train_2 = pd.read_csv(fastest_route_train_2_zip.open('fastest_routes_train_part_2_new.csv'))\n",
    "fastest_route_train_3 = pd.read_csv(fastest_route_train_3_zip.open('fastest_routes_train_part_3_new.csv'))\n",
    "stormWarning = pd.read_csv(stormWarning_zip.open('NY_Storm_Events_2016.csv'))"
   ]
  },
  {
   "cell_type": "markdown",
   "metadata": {},
   "source": [
    "### Data visualising "
   ]
  },
  {
   "cell_type": "code",
   "execution_count": 3,
   "metadata": {
    "scrolled": true
   },
   "outputs": [
    {
     "name": "stdout",
     "output_type": "stream",
     "text": [
      "Done\n"
     ]
    }
   ],
   "source": [
    "train = train.dropna()\n",
    "### remove the text 'id' in the id column\n",
    "train['id'].replace(regex=True,inplace=True,to_replace=r'\\D',value=r'')\n",
    "train.sort_values(by='id').reset_index(drop=True)\n",
    "print(\"Done\") #Removes the large output"
   ]
  },
  {
   "cell_type": "code",
   "execution_count": null,
   "metadata": {},
   "outputs": [],
   "source": [
    "### visualisation"
   ]
  },
  {
   "cell_type": "code",
   "execution_count": 4,
   "metadata": {},
   "outputs": [
    {
     "data": {
      "image/png": "[encoded data removed]",
      "text/plain": [
       "<Figure size 432x288 with 1 Axes>"
      ]
     },
     "metadata": {
      "needs_background": "light"
     },
     "output_type": "display_data"
    }
   ],
   "source": [
    "x1=train['passenger_count'].values\n",
    "y1=np.zeros(1458644)\n",
    "plt.scatter(x1,y1,alpha=0.6)\n",
    "plt.show() "
   ]
  },
  {
   "cell_type": "code",
   "execution_count": 5,
   "metadata": {},
   "outputs": [
    {
     "data": {
      "image/png": "[encoded data removed]",
      "text/plain": [
       "<Figure size 432x288 with 1 Axes>"
      ]
     },
     "metadata": {
      "needs_background": "light"
     },
     "output_type": "display_data"
    },
    {
     "data": {
      "image/png": "[encoded data removed]",
      "text/plain": [
       "<Figure size 432x288 with 1 Axes>"
      ]
     },
     "metadata": {
      "needs_background": "light"
     },
     "output_type": "display_data"
    }
   ],
   "source": [
    "x2=train['pickup_longitude'].values\n",
    "y2=np.zeros(1458644)\n",
    "plt.scatter(x2,y2,alpha=0.6)\n",
    "plt.show()\n",
    "\n",
    "index_drop = train.index[train['pickup_longitude'] < -120].tolist()\n",
    "train = train.drop(index_drop)\n",
    "\n",
    "train[train['pickup_longitude'] < -120]\n",
    "\n",
    "x2=train['pickup_longitude'].values\n",
    "y2=np.zeros(1458642)\n",
    "plt.scatter(x2,y2,alpha=0.6)\n",
    "plt.show()                 "
   ]
  },
  {
   "cell_type": "code",
   "execution_count": 6,
   "metadata": {},
   "outputs": [
    {
     "data": {
      "image/png": "[encoded data removed]",
      "text/plain": [
       "<Figure size 432x288 with 1 Axes>"
      ]
     },
     "metadata": {
      "needs_background": "light"
     },
     "output_type": "display_data"
    }
   ],
   "source": [
    "x3=train['dropoff_longitude']. values\n",
    "y3=np.zeros(1458642)\n",
    "plt.scatter(x3,y3,alpha=0.6)\n",
    "plt.show()\n",
    "\n"
   ]
  },
  {
   "cell_type": "code",
   "execution_count": 7,
   "metadata": {},
   "outputs": [
    {
     "data": {
      "image/png": "[encoded data removed]",
      "text/plain": [
       "<Figure size 432x288 with 1 Axes>"
      ]
     },
     "metadata": {
      "needs_background": "light"
     },
     "output_type": "display_data"
    }
   ],
   "source": [
    "x4=train['dropoff_latitude'].values\n",
    "y4=np.zeros(1458642)\n",
    "plt.scatter(x4,y4,alpha=0.6)\n",
    "plt.show()\n",
    "\n"
   ]
  },
  {
   "cell_type": "code",
   "execution_count": 8,
   "metadata": {},
   "outputs": [
    {
     "data": {
      "image/png": "[encoded data removed]",
      "text/plain": [
       "<Figure size 432x288 with 1 Axes>"
      ]
     },
     "metadata": {
      "needs_background": "light"
     },
     "output_type": "display_data"
    },
    {
     "data": {
      "image/png": "[encoded data removed]",
      "text/plain": [
       "<Figure size 432x288 with 1 Axes>"
      ]
     },
     "metadata": {
      "needs_background": "light"
     },
     "output_type": "display_data"
    }
   ],
   "source": [
    "x5=train['trip_duration'].values\n",
    "y5=np.zeros(1458642)\n",
    "plt.scatter(x5,y5,alpha=0.6)\n",
    "plt.show()\n",
    "\n",
    "\n",
    "index_drop = train.index[train['trip_duration'] >1500000].tolist()\n",
    "train = train.drop(index_drop)\n",
    "#display(train)\n",
    "\n",
    "\n",
    "x5=train['trip_duration'].values\n",
    "y5=np.zeros(1458638)\n",
    "plt.scatter(x5,y5,alpha=0.6)\n",
    "plt.show()"
   ]
  },
  {
   "cell_type": "code",
   "execution_count": 9,
   "metadata": {},
   "outputs": [
    {
     "data": {
      "image/png": "[encoded data removed]",
      "text/plain": [
       "<Figure size 432x288 with 1 Axes>"
      ]
     },
     "metadata": {
      "needs_background": "light"
     },
     "output_type": "display_data"
    }
   ],
   "source": [
    "x5=train['trip_duration'].values\n",
    "y5=np.zeros(1458638)\n",
    "plt.scatter(x5,y5,alpha=0.6)\n",
    "plt.show()"
   ]
  },
  {
   "cell_type": "code",
   "execution_count": 11,
   "metadata": {},
   "outputs": [
    {
     "name": "stdout",
     "output_type": "stream",
     "text": [
      "Taining total set size: 1458638\n",
      "Training set size: 1093974\n",
      "Test set size: 364664\n"
     ]
    }
   ],
   "source": [
    "# train split to 75/25\n",
    "\n",
    "split = len(train) * 0.75\n",
    "\n",
    "train_train = train.loc[:split,:]\n",
    "train_test = train.loc[split:,:]\n",
    "\n",
    "print('Taining total set size:',train.shape[0])\n",
    "print('Training set size:', train_train.shape[0])\n",
    "print('Test set size:', train_test.shape[0])"
   ]
  },
  {
   "cell_type": "code",
   "execution_count": 12,
   "metadata": {},
   "outputs": [
    {
     "name": "stdout",
     "output_type": "stream",
     "text": [
      "Taining total set size: 1458638\n",
      "Training set size: 1093978\n",
      "Test set size: 364660\n"
     ]
    }
   ],
   "source": [
    "from sklearn.model_selection import train_test_split\n",
    "\n",
    "X_train, X_test = train_test_split(train, test_size=0.25)\n",
    "\n",
    "print('Taining total set size:',train.shape[0])\n",
    "print('Training set size:', X_train.shape[0])\n",
    "print('Test set size:', X_test.shape[0])"
   ]
  },
  {
   "cell_type": "markdown",
   "metadata": {},
   "source": [
    "<hr style=\"height: 1.0px;\"/>\n",
    "\n",
    "### Data Preprocessing\n",
    "\n",
    "Investigating averages from the data\n",
    "\n",
    "Data: 19/04/2019"
   ]
  },
  {
   "cell_type": "code",
   "execution_count": 13,
   "metadata": {},
   "outputs": [
    {
     "data": {
      "image/png": "[encoded data removed]",
      "text/plain": [
       "<Figure size 1296x432 with 2 Axes>"
      ]
     },
     "metadata": {
      "needs_background": "light"
     },
     "output_type": "display_data"
    }
   ],
   "source": [
    "#Average length of a trip (Add log)\n",
    "plt.figure(figsize=(18, 6))\n",
    "plt.subplot(1, 2, 1)\n",
    "plt.hist(train['trip_duration'])\n",
    "plt.title(\"Trip duration\")\n",
    "plt.xlabel(\"Trip duration\")\n",
    "plt.ylabel(\"Number of training records\")\n",
    "plt.subplot(1, 2, 2)\n",
    "plt.hist(np.log(train['trip_duration']), bins=100)\n",
    "plt.axvline(np.log(train['trip_duration']).mean(), color='red', linestyle='dashed', linewidth=2, label=\"Mean\")\n",
    "plt.axvline(np.log(train['trip_duration']).mean() + 2*np.log(train['trip_duration']).std(), color='green', linestyle='dashed', linewidth=1, label=\"+2 STD\")\n",
    "plt.axvline(np.log(train['trip_duration']).mean() + -2*np.log(train['trip_duration']).std(), color='green', linestyle='dashed', linewidth=1, label=\"-2 STD\")\n",
    "plt.title(\"Trip duration - Using 100 bins\")\n",
    "plt.xlabel(\"Trip duration (log)\")\n",
    "plt.ylabel(\"Number of training records\")\n",
    "plt.legend()\n",
    "plt.show()"
   ]
  },
  {
   "cell_type": "code",
   "execution_count": 14,
   "metadata": {},
   "outputs": [
    {
     "name": "stdout",
     "output_type": "stream",
     "text": [
      "Trips duration longer than:\n",
      "\t1.5 Hours: 3093 | 0.212%\n",
      "\t2.0 Hours: 2249 | 0.154%\n",
      "\t3.0 Hours: 2108 | 0.145%\n",
      "\n",
      "Trips duration shorter than:\n",
      "\t30 Seconds: 4890 | 0.335%\n",
      "\t60 Seconds: 8777 | 0.602%\n",
      "\n",
      "\n",
      "Removing: 7983 rows\n"
     ]
    },
    {
     "data": {
      "image/png": "[encoded data removed]",
      "text/plain": [
       "<Figure size 1296x432 with 2 Axes>"
      ]
     },
     "metadata": {
      "needs_background": "light"
     },
     "output_type": "display_data"
    }
   ],
   "source": [
    "#Removing trips longer than or short than specfic values\n",
    "longThan  = (60*60)* 2 #2 hours\n",
    "longThan2 = (60*60)* 3 #3 hours\n",
    "longThan3 = (60*60)* 1.5 #1.5 hours\n",
    "shortThan = 30 #30 seconds\n",
    "shortThan2 = 60 #1 minute\n",
    "\n",
    "temp = train\n",
    "\n",
    "print(\"Trips duration longer than:\")\n",
    "print('\\t1.5 Hours: %d | %0.3f%%' % (sum(temp['trip_duration'] > longThan3), (sum(temp['trip_duration'] > longThan3)/len(temp))*100))\n",
    "print('\\t2.0 Hours: %d | %0.3f%%' % (sum(temp['trip_duration'] > longThan), (sum(temp['trip_duration'] > longThan)/len(temp))*100))\n",
    "print('\\t3.0 Hours: %d | %0.3f%%' % (sum(temp['trip_duration'] > longThan2), (sum(temp['trip_duration'] > longThan2)/len(temp))*100))\n",
    "print(\"\")\n",
    "\n",
    "print(\"Trips duration shorter than:\")\n",
    "print('\\t30 Seconds: %d | %0.3f%%' % (sum(temp['trip_duration'] <= shortThan), (sum(temp['trip_duration'] <= shortThan)/len(temp))*100))\n",
    "print('\\t60 Seconds: %d | %0.3f%%' % (sum(temp['trip_duration'] <= shortThan2), (sum(temp['trip_duration'] <= shortThan2)/len(temp))*100))\n",
    "print(\"\\n\")\n",
    "\n",
    "print(\"Removing:\", sum(temp['trip_duration'] <= shortThan) + sum(temp['trip_duration'] > longThan3), \"rows\")\n",
    "temp = temp.drop(temp[temp.trip_duration > longThan3].index)\n",
    "temp = temp.drop(temp[temp.trip_duration <= shortThan].index)\n",
    "\n",
    "\n",
    "plt.figure(figsize=(18, 6))\n",
    "plt.subplot(1, 2, 1)\n",
    "plt.hist(temp['trip_duration'])\n",
    "plt.title(\"Trip duration\")\n",
    "plt.xlabel(\"Trip duration\")\n",
    "plt.ylabel(\"Number of training records\")\n",
    "plt.subplot(1, 2, 2)\n",
    "plt.hist(np.log(temp['trip_duration']), bins=100)\n",
    "plt.axvline(np.log(temp['trip_duration']).mean(), color='red', linestyle='dashed', linewidth=2, label=\"Mean\")\n",
    "plt.axvline(np.log(temp['trip_duration']).mean() + 2*np.log(temp['trip_duration']).std(), color='green', linestyle='dashed', linewidth=1, label=\"+2 STD\")\n",
    "plt.axvline(np.log(temp['trip_duration']).mean() + -2*np.log(temp['trip_duration']).std(), color='green', linestyle='dashed', linewidth=1, label=\"-2 STD\")\n",
    "plt.title(\"Trip duration - Using 100 bins\")\n",
    "plt.xlabel(\"Trip duration (log)\")\n",
    "plt.ylabel(\"Number of training records\")\n",
    "plt.legend()\n",
    "plt.show()"
   ]
  },
  {
   "cell_type": "code",
   "execution_count": 15,
   "metadata": {},
   "outputs": [
    {
     "name": "stdout",
     "output_type": "stream",
     "text": [
      "Duplicate fields (Train):  0\n",
      "Duplicate fields (Test):  0\n",
      "Duplicate ID fields (Train):  0\n",
      "Duplicate ID fields: (Test) 0\n",
      "Number of error fields:  0\n"
     ]
    }
   ],
   "source": [
    "#Checking for duplicate fields and for impossible results\n",
    "print(\"Duplicate fields (Train): \", train.duplicated().sum())\n",
    "print(\"Duplicate fields (Test): \", train.duplicated().sum())\n",
    "print(\"Duplicate ID fields (Train): \",train.id.duplicated().sum())\n",
    "print(\"Duplicate ID fields: (Test)\",test.id.duplicated().sum())\n",
    "print(\"Number of error fields: \", sum(train.dropoff_datetime < train.pickup_datetime))"
   ]
  },
  {
   "cell_type": "markdown",
   "metadata": {},
   "source": [
    "<hr style=\"height: 1.0px;\"/>\n",
    "\n",
    "### Comparing the 'Vendor' vs 'Trip Duration' - SOMEBODY\n",
    "\n",
    "It might be of interest to see the average trip duration for each vendor. Maybe plot two histographs over one another?"
   ]
  },
  {
   "cell_type": "code",
   "execution_count": null,
   "metadata": {},
   "outputs": [],
   "source": [
    "#CODE"
   ]
  },
  {
   "cell_type": "markdown",
   "metadata": {},
   "source": [
    "<hr style=\"height: 1.0px;\"/>\n",
    "\n",
    "### Data Cleaning and Feature Reduction\n",
    "\n",
    "Date: 19/04/2019"
   ]
  },
  {
   "cell_type": "code",
   "execution_count": 16,
   "metadata": {},
   "outputs": [
    {
     "name": "stdout",
     "output_type": "stream",
     "text": [
      "Train Shape:  (5, 11)\n",
      "Test Shape:  (5, 9)\n",
      "\n",
      "\n",
      "Missing Columns:  {'trip_duration', 'dropoff_datetime'}\n",
      "Dropping 'dropoff_datetime'\n"
     ]
    }
   ],
   "source": [
    "#Data Cleaning and feature reduction\n",
    "print(\"Train Shape: \", train.head(5).shape)\n",
    "print(\"Test Shape: \", test.head(5).shape)\n",
    "print(\"\\n\") #Carriage return\n",
    "\n",
    "#For some reason the test data contains two less columns\n",
    "print(\"Missing Columns: \", set(list(train)) - set(list(test)))\n",
    "\n",
    "#Can't remove trip_duration as it is needed in training process but no\n",
    "# need to keep 'dropoff_datatime'\n",
    "print(\"Dropping 'dropoff_datetime'\")\n",
    "train = train.drop('dropoff_datetime',1)"
   ]
  },
  {
   "cell_type": "markdown",
   "metadata": {},
   "source": [
    "<hr style=\"height: 1.0px;\"/>\n",
    "\n",
    "### Normalise time data\n",
    "\n",
    "Removing the column 'pickup_datetime' and replacing it with four new columns:\n",
    "  * pickup_year\n",
    "  * pickup_month\n",
    "  * pickup_hour\n",
    "  * pickup_minute\n",
    "  * pickup_second\n",
    "\n",
    "It might also be of interest to see what impact the time of pickup has on the duration of the trip or weather or not it is during work hours. As a result, several new columns have been added:\n",
    "\n",
    " * workTime - referring to whether or not the pickup was between 9am and 5pm \n",
    " * lateNight - referring to whether or not the pickup was between 10pm and 6am\n",
    " * weekday - referring to whether or not the pickup was during a weekday (Monday - Friday)\n",
    "\n",
    "#### Things need doing\n",
    " * Determine if some trips are taking forever\n",
    " * Determine if its a holiday \n",
    "\n",
    "Date: 19/04/2019"
   ]
  },
  {
   "cell_type": "code",
   "execution_count": 17,
   "metadata": {},
   "outputs": [],
   "source": [
    "#Normalise time data\n",
    "\n",
    "#Current 'pickup_datetime' format: 2016-03-14 17:24:55 OR YYYY-MM-DD HH:MM:SS\n",
    "train[['Date','Time']] = train.pickup_datetime.str.split(\" \",expand=True,)\n",
    "train[['pickup_Year','pickup_Month','pickup_Day']] = train.Date.str.split(\"-\",expand=True,)\n",
    "train[['pickup_Hour','pickup_Minute','pickup_Second']] = train.Time.str.split(\":\",expand=True,)\n",
    "\n",
    "#Dropping columns\n",
    "train = train.drop('pickup_datetime',1)\n",
    "train = train.drop('Date',1)\n",
    "train = train.drop('Time',1)\n",
    "train = train.drop('pickup_Second',1)"
   ]
  },
  {
   "cell_type": "code",
   "execution_count": 18,
   "metadata": {},
   "outputs": [],
   "source": [
    "#Determining if working hours \n",
    "startWork = \"09\" #9am\n",
    "endWork = \"17\" #5pm\n",
    "\n",
    "startLateNight = \"22\" #10pm\n",
    "endLateNight = \"06\" #6am\n",
    "    \n",
    "def workTime(row):\n",
    "    if((row['pickup_Hour'] >= startWork) and (row['pickup_Hour'] <= endWork)):\n",
    "        return True\n",
    "    else:\n",
    "        return False\n",
    "    \n",
    "def lateNight(row):\n",
    "    if((row['pickup_Hour'] >= startLateNight) or (row['pickup_Hour'] <= endLateNight)):\n",
    "        return True\n",
    "    else:\n",
    "        return False\n",
    "    \n",
    "def weekday(row):\n",
    "    df = pd.Timestamp(row['pickup_Year'] + \"-\" + row['pickup_Month'] + \"-\" + row['pickup_Day'])\n",
    "    \n",
    "    if df.dayofweek<5:\n",
    "        return True\n",
    "    else:\n",
    "        return False\n",
    "\n",
    "#Determing if during workTime, lateNight and weekday\n",
    "train['workTime'] = train.apply (lambda x: workTime(x), axis=1)\n",
    "train['lateNight'] = train.apply (lambda x: lateNight(x), axis=1)\n",
    "train['weekday'] = train.apply (lambda x: weekday(x), axis=1)"
   ]
  },
  {
   "cell_type": "code",
   "execution_count": null,
   "metadata": {},
   "outputs": [],
   "source": [
    "### CAITLIN ###\n",
    "#Determine if its a holiday#"
   ]
  },
  {
   "cell_type": "markdown",
   "metadata": {},
   "source": [
    "<hr style=\"height: 1.0px;\"/>\n",
    "\n",
    "### Calculate the distance travelled\n",
    "\n",
    "It might be of interest to determine how far the taxi has travelled (could help spot potential outliers)<br />\n",
    "Using the equation below: <br /><br />\n",
    "\n",
    "<center>\n",
    "       <img src=\"images/distanceEquation2.png\"><br />\n",
    "       Source: <a href=\"https://andrew.hedges.name/experiments/haversine/\">Finding distances based on Latitude and Longitude</a>\n",
    "</center>\n",
    "\n",
    "The distance between the starting location and final location will be calculated. Obviously this distance will be an approximation as it is impossible to determine the route taken. This distance will be \"as the crow flies\".\n",
    "\n",
    "<br />\n",
    "\n",
    "The distance travelled has very long tails, as a result, the distances over and under specific values could dropped?\n",
    "\n"
   ]
  },
  {
   "cell_type": "code",
   "execution_count": 19,
   "metadata": {},
   "outputs": [
    {
     "name": "stderr",
     "output_type": "stream",
     "text": [
      "/usr/local/lib/python3.7/site-packages/numpy/lib/function_base.py:780: RuntimeWarning: invalid value encountered in greater_equal\n",
      "  keep = (tmp_a >= first_edge)\n",
      "/usr/local/lib/python3.7/site-packages/numpy/lib/function_base.py:781: RuntimeWarning: invalid value encountered in less_equal\n",
      "  keep &= (tmp_a <= last_edge)\n"
     ]
    },
    {
     "data": {
      "image/png": "[encoded data removed]",
      "text/plain": [
       "<Figure size 1296x432 with 2 Axes>"
      ]
     },
     "metadata": {
      "needs_background": "light"
     },
     "output_type": "display_data"
    }
   ],
   "source": [
    "#Approximate radius of earth\n",
    "R = 3961 #Miles\n",
    "#R = 6373 #Km\n",
    "\n",
    "\n",
    "def distance(row):\n",
    "    lat1 = math.radians(row['pickup_latitude'])\n",
    "    lon1 = math.radians(row['pickup_longitude'])\n",
    "    \n",
    "    lat2 = math.radians(row['dropoff_latitude'])\n",
    "    lon2 = math.radians(row['dropoff_longitude'])\n",
    "\n",
    "    dlon = lon2 - lon1\n",
    "    dlat = lat2 - lat1\n",
    "\n",
    "    a = math.sin(dlat / 2)**2 + math.cos(lat1) * math.cos(lat2) * math.sin(dlon / 2)**2\n",
    "    c = 2 * math.atan2(math.sqrt(a), math.sqrt(1 - a))\n",
    "\n",
    "    temp = (R * c)\n",
    "    if(temp <= 0):\n",
    "        #No movement\n",
    "        return np.nan\n",
    "    return temp\n",
    "    \n",
    "train['distanceTravelled'] = train.apply (lambda x: distance(x), axis=1)\n",
    "\n",
    "#Some of the fields had no movement and as a result are dropped\n",
    "train.dropna()\n",
    "\n",
    "#Plotting the distance travelled on a histograph for observation purposes \n",
    "plt.figure(figsize=(18, 6))\n",
    "plt.subplot(1, 2, 1)\n",
    "plt.hist(train['distanceTravelled'])\n",
    "plt.title(\"Distance travelled\")\n",
    "plt.xlabel(\"Distance travelled\")\n",
    "plt.ylabel(\"Number of training records\")\n",
    "plt.subplot(1, 2, 2)\n",
    "plt.hist(np.log(train['distanceTravelled']), bins=100)\n",
    "plt.axvline(np.log(train['distanceTravelled']).mean(), color='red', linestyle='dashed', linewidth=2, label=\"Mean\")\n",
    "plt.axvline(np.log(train['distanceTravelled']).mean() + 2*np.log(train['distanceTravelled']).std(), color='green', linestyle='dashed', linewidth=1, label=\"+2 STD\")\n",
    "plt.axvline(np.log(train['distanceTravelled']).mean() + -2*np.log(train['distanceTravelled']).std(), color='green', linestyle='dashed', linewidth=1, label=\"-2 STD\")\n",
    "plt.title(\"Distance travelled - Using 100 bins\")\n",
    "plt.xlabel(\"Distance travelled (log)\")\n",
    "plt.ylabel(\"Number of training records\")\n",
    "plt.legend()\n",
    "plt.show()"
   ]
  },
  {
   "cell_type": "code",
   "execution_count": 20,
   "metadata": {},
   "outputs": [
    {
     "name": "stdout",
     "output_type": "stream",
     "text": [
      "Trips travelled further than:\n",
      "\t20 miles: 442 | 0.030%\n",
      "\t100 miles: 13 | 0.001%\n",
      "\n",
      "Trips travelled less than:\n",
      "\t0.10 miles: 9471 | 0.649%\n",
      "\t0.01 miles: 3378 | 0.232%\n",
      "\n",
      "\n",
      "Removing: 9913 rows\n"
     ]
    },
    {
     "data": {
      "image/png": "[encoded data removed]",
      "text/plain": [
       "<Figure size 1296x432 with 2 Axes>"
      ]
     },
     "metadata": {
      "needs_background": "light"
     },
     "output_type": "display_data"
    }
   ],
   "source": [
    "\n",
    "temp = train\n",
    "\n",
    "print(\"Trips travelled further than:\")\n",
    "print('\\t20 miles: %d | %0.3f%%' % (sum(temp['distanceTravelled'] > 20), (sum(temp['distanceTravelled'] > 20)/len(temp))*100))\n",
    "print('\\t100 miles: %d | %0.3f%%' % (sum(temp['distanceTravelled'] > 100), (sum(temp['distanceTravelled'] > 100)/len(temp))*100))\n",
    "print(\"\")\n",
    "\n",
    "print(\"Trips travelled less than:\")\n",
    "print('\\t0.10 miles: %d | %0.3f%%' % (sum(temp['distanceTravelled'] <= 0.1), (sum(temp['distanceTravelled'] <= 0.1)/len(temp))*100))\n",
    "print('\\t0.01 miles: %d | %0.3f%%' % (sum(temp['distanceTravelled'] <= 0.01), (sum(temp['distanceTravelled'] <= 0.01)/len(temp))*100))\n",
    "print(\"\\n\")\n",
    "\n",
    "print(\"Removing:\", sum(temp['distanceTravelled'] > 20) + sum(temp['distanceTravelled'] <= 0.1), \"rows\")\n",
    "temp = temp.drop(temp[temp.distanceTravelled > 20].index)\n",
    "temp = temp.drop(temp[temp.distanceTravelled <= 0.1].index)\n",
    "\n",
    "\n",
    "\n",
    "#Plotting the distance travelled on a histograph for observation purposes \n",
    "plt.figure(figsize=(18, 6))\n",
    "plt.subplot(1, 2, 1)\n",
    "plt.hist(temp['distanceTravelled'])\n",
    "plt.title(\"Distance travelled\")\n",
    "plt.xlabel(\"Distance travelled\")\n",
    "plt.ylabel(\"Number of training records\")\n",
    "plt.subplot(1, 2, 2)\n",
    "plt.hist(np.log(temp['distanceTravelled']), bins=100)\n",
    "plt.axvline(np.log(train['distanceTravelled']).mean(), color='red', linestyle='dashed', linewidth=2, label=\"Mean\")\n",
    "plt.axvline(np.log(train['distanceTravelled']).mean() + 2*np.log(train['distanceTravelled']).std(), color='green', linestyle='dashed', linewidth=1, label=\"+2 STD\")\n",
    "plt.axvline(np.log(train['distanceTravelled']).mean() + -2*np.log(train['distanceTravelled']).std(), color='green', linestyle='dashed', linewidth=1, label=\"-2 STD\")\n",
    "plt.title(\"Distance travelled - Using 100 bins\")\n",
    "plt.xlabel(\"Distance travelled (log)\")\n",
    "plt.ylabel(\"Number of training records\")\n",
    "plt.legend()\n",
    "plt.show()\n"
   ]
  },
  {
   "cell_type": "markdown",
   "metadata": {},
   "source": [
    "<hr style=\"height: 1.0px;\"/>\n",
    "\n",
    "### Map of Manhatten - Runyu\n",
    "\n",
    "* add words *"
   ]
  },
  {
   "cell_type": "code",
   "execution_count": 1,
   "metadata": {},
   "outputs": [
    {
     "ename": "NameError",
     "evalue": "name 'plt' is not defined",
     "output_type": "error",
     "traceback": [
      "\u001b[1;31m---------------------------------------------------------------------------\u001b[0m",
      "\u001b[1;31mNameError\u001b[0m                                 Traceback (most recent call last)",
      "\u001b[1;32m<ipython-input-1-945acfd2e4d0>\u001b[0m in \u001b[0;36m<module>\u001b[1;34m\u001b[0m\n\u001b[0;32m      1\u001b[0m \u001b[1;31m#CODE\u001b[0m\u001b[1;33m\u001b[0m\u001b[1;33m\u001b[0m\u001b[1;33m\u001b[0m\u001b[0m\n\u001b[0;32m      2\u001b[0m \u001b[1;31m# Plotting the Latitude and Longitude values that we get after bounding them to see what we get\u001b[0m\u001b[1;33m\u001b[0m\u001b[1;33m\u001b[0m\u001b[1;33m\u001b[0m\u001b[0m\n\u001b[1;32m----> 3\u001b[1;33m \u001b[0mplt\u001b[0m\u001b[1;33m.\u001b[0m\u001b[0mfigure\u001b[0m\u001b[1;33m(\u001b[0m\u001b[0mfigsize\u001b[0m\u001b[1;33m=\u001b[0m\u001b[1;33m(\u001b[0m\u001b[1;36m20\u001b[0m\u001b[1;33m,\u001b[0m\u001b[1;36m10\u001b[0m\u001b[1;33m)\u001b[0m\u001b[1;33m)\u001b[0m\u001b[1;33m\u001b[0m\u001b[1;33m\u001b[0m\u001b[0m\n\u001b[0m\u001b[0;32m      4\u001b[0m \u001b[1;33m\u001b[0m\u001b[0m\n\u001b[0;32m      5\u001b[0m \u001b[1;31m# Combining Pickup and Dropoff values into a list for Latitudes and Longitudes\u001b[0m\u001b[1;33m\u001b[0m\u001b[1;33m\u001b[0m\u001b[1;33m\u001b[0m\u001b[0m\n",
      "\u001b[1;31mNameError\u001b[0m: name 'plt' is not defined"
     ]
    }
   ],
   "source": [
    "#CODE\n"
   ]
  },
  {
   "cell_type": "markdown",
   "metadata": {},
   "source": [
    "<hr style=\"height: 1.0px;\"/>\n",
    "\n",
    "### Accuracy Checker\n",
    "\n",
    "In order to determine how accurate the model is, the user will have to compare the the predicted results against the actual results. There are two approaches that can be taken, an exact comparison where only a '1' will be returned if the predicted durations is exactly the same, or an approximate duration where a percentage-out is allowed"
   ]
  },
  {
   "cell_type": "code",
   "execution_count": 21,
   "metadata": {},
   "outputs": [],
   "source": [
    "def accuracy(actual, predicted, percentage=0):\n",
    "    #The two lists need to be of the same size\n",
    "    if(len(actual) != len(predicted)):\n",
    "        return np.nan\n",
    "    \n",
    "    if(approx == 0):\n",
    "        temp = actual == predicted\n",
    "    else:\n",
    "        temp = ((approx * percentage) <= predicted) & (predicted <= ((1 + percentage) * actual))\n",
    "    \n",
    "    return (sum(temp)/len(actual)*100)    "
   ]
  },
  {
   "cell_type": "markdown",
   "metadata": {},
   "source": [
    "<hr style=\"height: 1.0px;\"/>\n",
    "\n",
    "### Plot actual vs Predicted - Tze-yi\n",
    "\n",
    "* add words *"
   ]
  },
  {
   "cell_type": "code",
   "execution_count": null,
   "metadata": {},
   "outputs": [],
   "source": [
    "#CODE"
   ]
  },
  {
   "cell_type": "markdown",
   "metadata": {},
   "source": [
    "<hr style=\"height: 1.0px;\"/>\n",
    "\n",
    "### Principal component analysis (PCA) - Tze-yi\n",
    "\n",
    "* add words *\n",
    "\n",
    "Not entirely sure what this will show, but give it ago - Connor"
   ]
  },
  {
   "cell_type": "code",
   "execution_count": null,
   "metadata": {},
   "outputs": [],
   "source": [
    "#CODE"
   ]
  },
  {
   "cell_type": "markdown",
   "metadata": {},
   "source": [
    "<br />\n",
    "<hr style=\"height: 1.0px;\"/>\n",
    "\n",
    "# Machine Learning\n",
    "\n",
    "Using a variety of different Machine Learning techniques and data sources, a comparative analysis into the effectiveness and reliability of the methods will be conducted. These methods include:\n",
    " * eXtreme Gradient Boosting (XGBoosting)\n",
    " * Ada Boost\n",
    " * Random Forest\n",
    " * Neural Networks\n",
    " * K-Nearest Neighbor (KNN)\n",
    " * CAITLIN\n",
    " \n",
    "In order to gain better results, a wide range of external sources are also used. For example:\n",
    " * XGBoosting will be incorporated with:\n",
    "  * 2016 weather forecast\n",
    "  * 2016 hourly weather forecast (for comparative reaons)  \n",
    "  * OSRM\n",
    "  * Storm Warnings\n",
    "\n",
    "\n",
    "Finally, after each Machine Learning process has been trained, the features of the most importance will be determined. This will help identify the significant features for a given model.\n"
   ]
  },
  {
   "cell_type": "markdown",
   "metadata": {},
   "source": [
    "<hr style=\"height: 1.0px;\"/>\n",
    "\n",
    "### XGBoost with variational datasources - Connor\n",
    "\n",
    "In order to determine which dataset has the largest effect on the accuracy of the model, $5$ models will be created. After each model has been trained for $n$ iterations, the accuracy will be calculated from the testing dataset (25% of the training dataset). The base model will include just the given training data and no external data sources, this will give a good bench mark to work on. All other models will include one or more external sources.\n",
    "\n",
    "\n",
    "Models:\n",
    " * Default (given data)\n",
    " * 2016 daily weather\n",
    " * 2016 hourly weather\n",
    " * OSRM\n",
    " * Storm Warning\n",
    " \n",
    "Should time permit it, a combination of the above models will be used.\n",
    "\n",
    "<b>Why XGBoost?</b><br />\n",
    "words...\n",
    "\n",
    "<b>Parameters:</b><br />\n",
    "XGBoost has lots of hyper-parameters that can be fine tuned. As such, finding the optimum combination can take days of running. As a result, minimal parameter tuning will be used. For a guide on parameter tuning with XGBoost, look at [analyticsvidhya](https://www.analyticsvidhya.com/blog/2016/03/complete-guide-parameter-tuning-xgboost-with-codes-python/).\n",
    "\n",
    "NOTES:\n",
    "\n",
    "* Storm Warning:\n",
    " * This info can reduce the RMSLE in my experiments, you can refer the sample code to add the info into datasets: https://www.kaggle.com/c/nyc-taxi-trip-duration/discussion/38591#216546\n",
    "* Can we train using the lon and lat? Thinking about assigning areas rather than two seemingly random numbers?\n",
    "* 'store_and_fwd_flag' caused some problems, not sure if even needed"
   ]
  },
  {
   "cell_type": "code",
   "execution_count": 22,
   "metadata": {},
   "outputs": [],
   "source": [
    "#Could consider taking the log?\n",
    "y = train['trip_duration']\n",
    "\n",
    "#Some of the data cannot be used for training, for example, the trip duration as thats the output\n",
    "Not_train_cols = ['id','trip_duration', 'distanceTravelled', 'dropoff_longitude', \\\n",
    "                      'dropoff_latitude', 'store_and_fwd_flag']\n",
    "\n",
    "dropped_train = train.drop([col for col in Not_train_cols if col in train], axis=1)\n",
    "feature_names = list(dropped_train.columns)\n",
    "\n",
    "x_train, x_test, y_train, y_test = train_test_split(dropped_train[feature_names], y, \\\n",
    "                                                    test_size=0.25)\n",
    "\n",
    "#Creating the XGBoot matrices\n",
    "xgb_train = xgb.DMatrix(x_train.values, label=y_train.values)"
   ]
  },
  {
   "cell_type": "code",
   "execution_count": 39,
   "metadata": {},
   "outputs": [
    {
     "name": "stdout",
     "output_type": "stream",
     "text": [
      "12\n",
      "1093978\n"
     ]
    }
   ],
   "source": [
    "#Training the basic model \n",
    "#model_xgb = xgb.train('default', short_XGB_train)\n",
    "\n",
    "\n",
    "xgb_val = xgb.DMatrix(x_test.values, label=y_test.values)\n",
    "watchlist = [(xgb_train, 'train'), (xgb_val, 'valid')]\n",
    "\n",
    "\n",
    "#Not using these are the mo\n",
    "xgb_pars = {'min_child_weight': 100, 'eta': 0.1, 'colsample_bytree': 0.7, 'max_depth': 15,\n",
    "            'subsample': 0.8, 'lambda': 1., 'nthread': -1, 'booster' : 'gbtree', 'silent': 1,\n",
    "            'eval_metric': 'rmse', 'objective': 'reg:linear'}\n",
    "\n",
    "\n",
    "print(xgb_train.num_col())\n",
    "print(xgb_train.num_row())\n",
    "\n",
    "#model_xgb = xgb.train('default', xgb_train, 500, watchlist, early_stopping_rounds=50,\n",
    "#                  maximize=False, verbose_eval=20)"
   ]
  },
  {
   "cell_type": "code",
   "execution_count": 10,
   "metadata": {},
   "outputs": [],
   "source": [
    "#Training the model with ...\n",
    "#CODE"
   ]
  },
  {
   "cell_type": "markdown",
   "metadata": {},
   "source": [
    "<hr style=\"height: 1.0px;\"/>\n",
    "\n",
    "### Ada Boost - Tze-yi\n",
    "\n",
    "* words *"
   ]
  },
  {
   "cell_type": "code",
   "execution_count": null,
   "metadata": {},
   "outputs": [],
   "source": [
    "#CODE"
   ]
  },
  {
   "cell_type": "markdown",
   "metadata": {},
   "source": [
    "<hr style=\"height: 1.0px;\"/>\n",
    "\n",
    "### Frankenstein's Monster Regression Model - SOMEBODY\n",
    "\n",
    "Can some one programme a method that takes $n$ models as input and takes 'x' data as input and calls the 'test' method from each model? \n"
   ]
  },
  {
   "cell_type": "code",
   "execution_count": null,
   "metadata": {},
   "outputs": [],
   "source": [
    "#CODE"
   ]
  }
 ],
 "metadata": {
  "kernelspec": {
   "display_name": "Python 3",
   "language": "python",
   "name": "python3"
  },
  "language_info": {
   "codemirror_mode": {
    "name": "ipython",
    "version": 3
   },
   "file_extension": ".py",
   "mimetype": "text/x-python",
   "name": "python",
   "nbconvert_exporter": "python",
   "pygments_lexer": "ipython3",
   "version": "3.7.1"
  }
 },
 "nbformat": 4,
 "nbformat_minor": 2
}
