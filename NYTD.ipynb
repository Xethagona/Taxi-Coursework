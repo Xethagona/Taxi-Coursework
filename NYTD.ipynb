{
 "cells": [
  {
   "cell_type": "markdown",
   "metadata": {},
   "source": [
    "<img src=\"images/backdrop.png\">\n",
    " \n",
    " \n",
    "### Dates/Deadlines\n",
    "\n",
    "Code: <i>05/05/2019 (one week before submission)</i><br />\n",
    "Report: <i>12/05/2019 (12:00 - noon)</i><br />\n",
    "\n",
    "\n",
    "### Tasks that need doing\n",
    " * Plot map of Manhatten \n",
    " * Create accuracy checker thing\n",
    " * Calculate distance between pick up and drop of (haversine)\n",
    " * Create method to plot actual vs predicted\n",
    " * Determine if holidays and weekends affect the trip duration\n",
    " * Perform PCA on dataset\n",
    " * Train model using XGBoost\n",
    " * Train Model using ... (Caitlin)\n",
    " * Train Model using Ada Boost (Tze-yi)\n",
    " * Train Model using KNN (Runyu)\n",
    " * Train Model using random forest or neural network (Leyan)\n",
    " * Compare results of all regression methods\n",
    " \n",
    " \n",
    "### Code consistency - Important\n",
    "\n",
    "When programming your respective models, can you call your training method <b>train()</b> and testing method <b>test()</b>. That way we'll be able to call them from a single combining method (Frankenstein's Monster Regression Model). If you would rather call them something else, just let me know and we can disucss.\n",
    "\n",
    "Also it would be great if you can add code to your model that allows you to save and load it.\n",
    " \n",
    "### Report\n",
    "\n",
    "<p>We need to submit seperate reports, so everyone needs to have enough to do and everyone needs enough time to write about what it is we have done</p>\n",
    "\n",
    " * \"Each team member submits their own independent write up. They also submit all of the code for the entire team. You may want to use the universities github service\"\n",
    " * \"The report has a 3000 word limit and must be a pdf file\"\n",
    " \n",
    "### Mark Scheme\n",
    "\n",
    "The key aim here is to go beyond ‘off-the-shelf’, that is, you need to implement a solution\n",
    "that is justifiably customised to the problem to get full marks. This doesn’t necessarily mean\n",
    "the machine learning algorithms are unique, but that the approach as a whole is. This can\n",
    "include feature design, combining multiple algorithms (system or ensemble), using further\n",
    "data, sneaky tricks etc. You get marks for being smart, not for being complicated.\n",
    "This project is worth 30% of your marks for the unit: <br />\n",
    "\n",
    " *  <b>5 marks</b>: Clearly explaining the problem and identifying ways to go beyond a problem-agnostic machine learning approach.\n",
    " * <b>5 marks</b>: Clearly explaining the solution(s) of your team as a whole, including identifying which details of the problem it exploits and how.\n",
    " * <b>10 marks</b>: A technical write up of the module(s) you contributed to your team. What they contribute, how they work, technical details. If they have a model give it; summarise any optimisation that occurs.\n",
    " * <b>10 marks</b>: Iterative evidence driven improvement, e.g. using the results of experiments to identify weaknesses with the current solution, proposing and implementing fixes, and then verifying via further experiments. While you write this section yourself it may discuss everything done within the team.\n",
    " \n",
    "for a total of <b>30 marks</b>\n",
    "\n",
    " \n",
    "### Links\n",
    "\n",
    "[Data](https://www.kaggle.com/c/nyc-taxi-trip-duration/data)<br />\n",
    "[GitHub](https://github.com/Xethagona/Taxi-Coursework)<br />\n",
    "[Spreadsheet](https://docs.google.com/spreadsheets/d/1oDq2rzWd1lVhdg2UYh2J4zRbN8XWPYKDrr4scczLoog/edit?usp=sharing)\n",
    "\n",
    "\n",
    "### Comments\n",
    "\n",
    " * I'd recommend labelling and titling your graphs\n",
    " * A few more comments in the code would be nice, not sure where some numbers have come from"
   ]
  },
  {
   "cell_type": "code",
   "execution_count": 1,
   "metadata": {},
   "outputs": [],
   "source": [
    "#Importing\n",
    "import numpy as np \n",
    "import pandas as pd\n",
    "import matplotlib.pyplot as plt\n",
    "import zipfile\n",
    "import math\n",
    "import xgboost as xgb\n",
    "\n",
    "from sklearn.model_selection import train_test_split\n",
    "\n",
    "%matplotlib inline"
   ]
  },
  {
   "cell_type": "markdown",
   "metadata": {},
   "source": [
    "### Reading data from ZIP and converting to Pandas - Layan & Connor\n",
    "\n",
    "Keeping the training and testing dataset as zip files reduces the file size "
   ]
  },
  {
   "cell_type": "code",
   "execution_count": 4,
   "metadata": {},
   "outputs": [],
   "source": [
    "#Creating zipFile instances \n",
    "training_zip = zipfile.ZipFile('train.zip') \n",
    "testing_zip = zipfile.ZipFile('test.zip') \n",
    "weather_zip = zipfile.ZipFile('2016-weather.zip')\n",
    "weather_hourly_zip = zipfile.ZipFile('2016-hourlyWeather.zip')\n",
    "fastest_route_test_zip = zipfile.ZipFile('fastest_routes_test.zip')\n",
    "fastest_route_train_1_zip = zipfile.ZipFile('fastest_routes_train_part_1.zip')\n",
    "fastest_route_train_2_zip = zipfile.ZipFile('fastest_routes_train_part_2_new.zip')\n",
    "fastest_route_train_3_zip = zipfile.ZipFile('fastest_routes_train_part_3_new.zip')\n",
    "stormWarning_zip = zipfile.ZipFile('NY_Storm_Events_2016.zip')\n",
    "\n",
    "#Reading CSV file from zipFile instance \n",
    "train = pd.read_csv(training_zip.open('train.csv'))\n",
    "test = pd.read_csv(testing_zip.open('test.csv'))\n",
    "weather = pd.read_csv(weather_zip.open('weather_data_nyc_centralpark_2016(1).csv'))\n",
    "weather_hourly = pd.read_csv(weather_hourly_zip.open('Weather.csv'))\n",
    "fastest_route_test = pd.read_csv(fastest_route_test_zip.open('fastest_routes_test.csv'))\n",
    "fastest_route_train_1 = pd.read_csv(fastest_route_train_1_zip.open('fastest_routes_train_part_1.csv'))\n",
    "fastest_route_train_2 = pd.read_csv(fastest_route_train_2_zip.open('fastest_routes_train_part_2_new.csv'))\n",
    "fastest_route_train_3 = pd.read_csv(fastest_route_train_3_zip.open('fastest_routes_train_part_3_new.csv'))\n",
    "stormWarning = pd.read_csv(stormWarning_zip.open('NY_Storm_Events_2016.csv'))"
   ]
  },
  {
   "cell_type": "markdown",
   "metadata": {},
   "source": [
    "### Data visualising - Leyan"
   ]
  },
  {
   "cell_type": "code",
   "execution_count": 5,
   "metadata": {
    "scrolled": true
   },
   "outputs": [
    {
     "name": "stdout",
     "output_type": "stream",
     "text": [
      "Done\n"
     ]
    }
   ],
   "source": [
    "train = train.dropna()\n",
    "### remove the text 'id' in the id column\n",
    "train['id'].replace(regex=True,inplace=True,to_replace=r'\\D',value=r'')\n",
    "train.sort_values(by='id').reset_index(drop=True)\n",
    "print(\"Done\") #Removes the large output"
   ]
  },
  {
   "cell_type": "code",
   "execution_count": null,
   "metadata": {},
   "outputs": [],
   "source": [
    "### visualisation"
   ]
  },
  {
   "cell_type": "code",
   "execution_count": 4,
   "metadata": {},
   "outputs": [
    {
     "data": {
      "image/png": "[encoded data removed]",
      "text/plain": [
       "<Figure size 432x288 with 1 Axes>"
      ]
     },
     "metadata": {
      "needs_background": "light"
     },
     "output_type": "display_data"
    }
   ],
   "source": [
    "x1=train['passenger_count'].values\n",
    "y1=np.zeros(1458644)\n",
    "plt.scatter(x1,y1,alpha=0.6)\n",
    "plt.show() "
   ]
  },
  {
   "cell_type": "code",
   "execution_count": 5,
   "metadata": {},
   "outputs": [
    {
     "data": {
      "image/png": "[encoded data removed]",
      "text/plain": [
       "<Figure size 432x288 with 1 Axes>"
      ]
     },
     "metadata": {
      "needs_background": "light"
     },
     "output_type": "display_data"
    },
    {
     "data": {
      "image/png": "[encoded data removed]",
      "text/plain": [
       "<Figure size 432x288 with 1 Axes>"
      ]
     },
     "metadata": {
      "needs_background": "light"
     },
     "output_type": "display_data"
    }
   ],
   "source": [
    "x2=train['pickup_longitude'].values\n",
    "y2=np.zeros(1458644)\n",
    "plt.scatter(x2,y2,alpha=0.6)\n",
    "plt.show()\n",
    "\n",
    "index_drop = train.index[train['pickup_longitude'] < -120].tolist()\n",
    "train = train.drop(index_drop)\n",
    "\n",
    "train[train['pickup_longitude'] < -120]\n",
    "\n",
    "x2=train['pickup_longitude'].values\n",
    "y2=np.zeros(1458642)\n",
    "plt.scatter(x2,y2,alpha=0.6)\n",
    "plt.show()                 "
   ]
  },
  {
   "cell_type": "code",
   "execution_count": 6,
   "metadata": {},
   "outputs": [
    {
     "data": {
      "image/png": "[encoded data removed]",
      "text/plain": [
       "<Figure size 432x288 with 1 Axes>"
      ]
     },
     "metadata": {
      "needs_background": "light"
     },
     "output_type": "display_data"
    }
   ],
   "source": [
    "x3=train['dropoff_longitude']. values\n",
    "y3=np.zeros(1458642)\n",
    "plt.scatter(x3,y3,alpha=0.6)\n",
    "plt.show()\n",
    "\n"
   ]
  },
  {
   "cell_type": "code",
   "execution_count": 7,
   "metadata": {},
   "outputs": [
    {
     "data": {
      "image/png": "[encoded data removed]",
      "text/plain": [
       "<Figure size 432x288 with 1 Axes>"
      ]
     },
     "metadata": {
      "needs_background": "light"
     },
     "output_type": "display_data"
    }
   ],
   "source": [
    "x4=train['dropoff_latitude'].values\n",
    "y4=np.zeros(1458642)\n",
    "plt.scatter(x4,y4,alpha=0.6)\n",
    "plt.show()\n",
    "\n"
   ]
  },
  {
   "cell_type": "code",
   "execution_count": 8,
   "metadata": {},
   "outputs": [
    {
     "data": {
      "image/png": "[encoded data removed]",
      "text/plain": [
       "<Figure size 432x288 with 1 Axes>"
      ]
     },
     "metadata": {
      "needs_background": "light"
     },
     "output_type": "display_data"
    },
    {
     "data": {
      "image/png": "[encoded data removed]",
      "text/plain": [
       "<Figure size 432x288 with 1 Axes>"
      ]
     },
     "metadata": {
      "needs_background": "light"
     },
     "output_type": "display_data"
    }
   ],
   "source": [
    "x5=train['trip_duration'].values\n",
    "y5=np.zeros(1458642)\n",
    "plt.scatter(x5,y5,alpha=0.6)\n",
    "plt.show()\n",
    "\n",
    "\n",
    "index_drop = train.index[train['trip_duration'] >1500000].tolist()\n",
    "train = train.drop(index_drop)\n",
    "#display(train)\n",
    "\n",
    "\n",
    "x5=train['trip_duration'].values\n",
    "y5=np.zeros(1458638)\n",
    "plt.scatter(x5,y5,alpha=0.6)\n",
    "plt.show()"
   ]
  },
  {
   "cell_type": "code",
   "execution_count": 9,
   "metadata": {},
   "outputs": [
    {
     "data": {
      "image/png": "[encoded data removed]",
      "text/plain": [
       "<Figure size 432x288 with 1 Axes>"
      ]
     },
     "metadata": {
      "needs_background": "light"
     },
     "output_type": "display_data"
    }
   ],
   "source": [
    "x5=train['trip_duration'].values\n",
    "y5=np.zeros(1458638)\n",
    "plt.scatter(x5,y5,alpha=0.6)\n",
    "plt.show()"
   ]
  },
  {
   "cell_type": "markdown",
   "metadata": {},
   "source": [
    "<hr style=\"height: 1.0px;\"/>\n",
    "\n",
    "### Data Preprocessing - Connor\n",
    "\n",
    "Investigating averages from the data\n",
    "\n",
    "Data: 19/04/2019"
   ]
  },
  {
   "cell_type": "code",
   "execution_count": 6,
   "metadata": {},
   "outputs": [
    {
     "data": {
      "image/png": "[encoded data removed]",
      "text/plain": [
       "<Figure size 1296x432 with 2 Axes>"
      ]
     },
     "metadata": {
      "needs_background": "light"
     },
     "output_type": "display_data"
    }
   ],
   "source": [
    "#Average length of a trip (Add log)\n",
    "plt.figure(figsize=(18, 6))\n",
    "plt.subplot(1, 2, 1)\n",
    "plt.hist(train['trip_duration'])\n",
    "plt.title(\"Trip duration\")\n",
    "plt.xlabel(\"Trip duration\")\n",
    "plt.ylabel(\"Number of training records\")\n",
    "plt.subplot(1, 2, 2)\n",
    "plt.hist(np.log(train['trip_duration']), bins=100)\n",
    "plt.axvline(np.log(train['trip_duration']).mean(), color='red', linestyle='dashed', linewidth=2, label=\"Mean\")\n",
    "plt.axvline(np.log(train['trip_duration']).mean() + 2*np.log(train['trip_duration']).std(), color='green', linestyle='dashed', linewidth=1, label=\"+2 STD\")\n",
    "plt.axvline(np.log(train['trip_duration']).mean() + -2*np.log(train['trip_duration']).std(), color='green', linestyle='dashed', linewidth=1, label=\"-2 STD\")\n",
    "plt.title(\"Trip duration - Using 100 bins\")\n",
    "plt.xlabel(\"Trip duration (log)\")\n",
    "plt.ylabel(\"Number of training records\")\n",
    "plt.legend()\n",
    "plt.show()"
   ]
  },
  {
   "cell_type": "code",
   "execution_count": 7,
   "metadata": {},
   "outputs": [
    {
     "name": "stdout",
     "output_type": "stream",
     "text": [
      "Trips duration longer than:\n",
      "\t1.5 Hours: 3097 | 0.212%\n",
      "\t2.0 Hours: 2253 | 0.154%\n",
      "\t3.0 Hours: 2112 | 0.145%\n",
      "\n",
      "Trips duration shorter than:\n",
      "\t30 Seconds: 4890 | 0.335%\n",
      "\t60 Seconds: 8777 | 0.602%\n",
      "\n",
      "\n",
      "Removing: 7987 rows\n"
     ]
    },
    {
     "data": {
      "image/png": "[encoded data removed]",
      "text/plain": [
       "<Figure size 1296x432 with 2 Axes>"
      ]
     },
     "metadata": {
      "needs_background": "light"
     },
     "output_type": "display_data"
    }
   ],
   "source": [
    "#Removing trips longer than or short than specfic values\n",
    "longThan  = (60*60)* 2 #2 hours\n",
    "longThan2 = (60*60)* 3 #3 hours\n",
    "longThan3 = (60*60)* 1.5 #1.5 hours\n",
    "shortThan = 30 #30 seconds\n",
    "shortThan2 = 60 #1 minute\n",
    "\n",
    "temp = train\n",
    "\n",
    "print(\"Trips duration longer than:\")\n",
    "print('\\t1.5 Hours: %d | %0.3f%%' % (sum(temp['trip_duration'] > longThan3), (sum(temp['trip_duration'] > longThan3)/len(temp))*100))\n",
    "print('\\t2.0 Hours: %d | %0.3f%%' % (sum(temp['trip_duration'] > longThan), (sum(temp['trip_duration'] > longThan)/len(temp))*100))\n",
    "print('\\t3.0 Hours: %d | %0.3f%%' % (sum(temp['trip_duration'] > longThan2), (sum(temp['trip_duration'] > longThan2)/len(temp))*100))\n",
    "print(\"\")\n",
    "\n",
    "print(\"Trips duration shorter than:\")\n",
    "print('\\t30 Seconds: %d | %0.3f%%' % (sum(temp['trip_duration'] <= shortThan), (sum(temp['trip_duration'] <= shortThan)/len(temp))*100))\n",
    "print('\\t60 Seconds: %d | %0.3f%%' % (sum(temp['trip_duration'] <= shortThan2), (sum(temp['trip_duration'] <= shortThan2)/len(temp))*100))\n",
    "print(\"\\n\")\n",
    "\n",
    "print(\"Removing:\", sum(temp['trip_duration'] <= shortThan) + sum(temp['trip_duration'] > longThan3), \"rows\")\n",
    "temp = temp.drop(temp[temp.trip_duration > longThan3].index)\n",
    "temp = temp.drop(temp[temp.trip_duration <= shortThan].index)\n",
    "\n",
    "\n",
    "plt.figure(figsize=(18, 6))\n",
    "plt.subplot(1, 2, 1)\n",
    "plt.hist(temp['trip_duration'])\n",
    "plt.title(\"Trip duration\")\n",
    "plt.xlabel(\"Trip duration\")\n",
    "plt.ylabel(\"Number of training records\")\n",
    "plt.subplot(1, 2, 2)\n",
    "plt.hist(np.log(temp['trip_duration']), bins=100)\n",
    "plt.axvline(np.log(temp['trip_duration']).mean(), color='red', linestyle='dashed', linewidth=2, label=\"Mean\")\n",
    "plt.axvline(np.log(temp['trip_duration']).mean() + 2*np.log(temp['trip_duration']).std(), color='green', linestyle='dashed', linewidth=1, label=\"+2 STD\")\n",
    "plt.axvline(np.log(temp['trip_duration']).mean() + -2*np.log(temp['trip_duration']).std(), color='green', linestyle='dashed', linewidth=1, label=\"-2 STD\")\n",
    "plt.title(\"Trip duration - Using 100 bins\")\n",
    "plt.xlabel(\"Trip duration (log)\")\n",
    "plt.ylabel(\"Number of training records\")\n",
    "plt.legend()\n",
    "plt.show()"
   ]
  },
  {
   "cell_type": "code",
   "execution_count": 8,
   "metadata": {},
   "outputs": [
    {
     "name": "stdout",
     "output_type": "stream",
     "text": [
      "Duplicate fields (Train):  0\n",
      "Duplicate fields (Test):  0\n",
      "Duplicate ID fields (Train):  0\n",
      "Duplicate ID fields: (Test) 0\n",
      "Number of error fields:  0\n"
     ]
    }
   ],
   "source": [
    "#Checking for duplicate fields and for impossible results\n",
    "print(\"Duplicate fields (Train): \", train.duplicated().sum())\n",
    "print(\"Duplicate fields (Test): \", train.duplicated().sum())\n",
    "print(\"Duplicate ID fields (Train): \",train.id.duplicated().sum())\n",
    "print(\"Duplicate ID fields: (Test)\",test.id.duplicated().sum())\n",
    "print(\"Number of error fields: \", sum(train.dropoff_datetime < train.pickup_datetime))"
   ]
  },
  {
   "cell_type": "markdown",
   "metadata": {},
   "source": [
    "<hr style=\"height: 1.0px;\"/>\n",
    "\n",
    "### Comparing the 'Vendor' vs 'Trip Duration' - SOMEBODY\n",
    "\n",
    "It might be of interest to see the average trip duration for each vendor. Maybe plot two histographs over one another?"
   ]
  },
  {
   "cell_type": "code",
   "execution_count": null,
   "metadata": {},
   "outputs": [],
   "source": [
    "#CODE"
   ]
  },
  {
   "cell_type": "markdown",
   "metadata": {},
   "source": [
    "<hr style=\"height: 1.0px;\"/>\n",
    "\n",
    "### Data Cleaning and Feature Reduction - Connor\n",
    "\n",
    "Date: 19/04/2019"
   ]
  },
  {
   "cell_type": "code",
   "execution_count": 9,
   "metadata": {},
   "outputs": [
    {
     "name": "stdout",
     "output_type": "stream",
     "text": [
      "Train Shape:  (5, 11)\n",
      "Test Shape:  (5, 9)\n",
      "\n",
      "\n",
      "Missing Columns:  {'trip_duration', 'dropoff_datetime'}\n",
      "Dropping 'dropoff_datetime'\n"
     ]
    }
   ],
   "source": [
    "#Data Cleaning and feature reduction\n",
    "print(\"Train Shape: \", train.head(5).shape)\n",
    "print(\"Test Shape: \", test.head(5).shape)\n",
    "print(\"\\n\") #Carriage return\n",
    "\n",
    "#For some reason the test data contains two less columns\n",
    "print(\"Missing Columns: \", set(list(train)) - set(list(test)))\n",
    "\n",
    "#Can't remove trip_duration as it is needed in training process but no\n",
    "# need to keep 'dropoff_datatime'\n",
    "print(\"Dropping 'dropoff_datetime'\")\n",
    "train = train.drop('dropoff_datetime',1)"
   ]
  },
  {
   "cell_type": "markdown",
   "metadata": {},
   "source": [
    "<hr style=\"height: 1.0px;\"/>\n",
    "\n",
    "### Normalise time data - Connor\n",
    "\n",
    "Removing the column 'pickup_datetime' and replacing it with four new columns:\n",
    "  * pickup_year\n",
    "  * pickup_month\n",
    "  * pickup_hour\n",
    "  * pickup_minute\n",
    "  * pickup_second\n",
    "\n",
    "It might also be of interest to see what impact the time of pickup has on the duration of the trip or weather or not it is during work hours. As a result, several new columns have been added:\n",
    "\n",
    " * workTime - referring to whether or not the pickup was between 9am and 5pm \n",
    " * lateNight - referring to whether or not the pickup was between 10pm and 6am\n",
    " * weekday - referring to whether or not the pickup was during a weekday (Monday - Friday)\n",
    "\n",
    "#### Things need doing\n",
    " * Determine if some trips are taking forever\n",
    " * Determine if its a holiday \n",
    "\n",
    "Date: 19/04/2019"
   ]
  },
  {
   "cell_type": "code",
   "execution_count": 10,
   "metadata": {},
   "outputs": [],
   "source": [
    "#Normalise time data\n",
    "\n",
    "#Current 'pickup_datetime' format: 2016-03-14 17:24:55 OR YYYY-MM-DD HH:MM:SS\n",
    "train[['Date','Time']] = train.pickup_datetime.str.split(\" \",expand=True,)\n",
    "train[['pickup_Year','pickup_Month','pickup_Day']] = train.Date.str.split(\"-\",expand=True,)\n",
    "train[['pickup_Hour','pickup_Minute','pickup_Second']] = train.Time.str.split(\":\",expand=True,)\n",
    "\n",
    "#Dropping columns\n",
    "train = train.drop('pickup_datetime',1)\n",
    "train = train.drop('Date',1)\n",
    "train = train.drop('Time',1)\n",
    "train = train.drop('pickup_Second',1)"
   ]
  },
  {
   "cell_type": "code",
   "execution_count": 11,
   "metadata": {},
   "outputs": [],
   "source": [
    "#Determining if working hours \n",
    "startWork = \"09\" #9am\n",
    "endWork = \"17\" #5pm\n",
    "\n",
    "startLateNight = \"22\" #10pm\n",
    "endLateNight = \"06\" #6am\n",
    "    \n",
    "def workTime(row):\n",
    "    if((row['pickup_Hour'] >= startWork) and (row['pickup_Hour'] <= endWork)):\n",
    "        return True\n",
    "    else:\n",
    "        return False\n",
    "    \n",
    "def lateNight(row):\n",
    "    if((row['pickup_Hour'] >= startLateNight) or (row['pickup_Hour'] <= endLateNight)):\n",
    "        return True\n",
    "    else:\n",
    "        return False\n",
    "    \n",
    "def weekday(row):\n",
    "    df = pd.Timestamp(row['pickup_Year'] + \"-\" + row['pickup_Month'] + \"-\" + row['pickup_Day'])\n",
    "    \n",
    "    if df.dayofweek<5:\n",
    "        return True\n",
    "    else:\n",
    "        return False\n",
    "\n",
    "#Determing if during workTime, lateNight and weekday\n",
    "train['workTime'] = train.apply (lambda x: workTime(x), axis=1)\n",
    "train['lateNight'] = train.apply (lambda x: lateNight(x), axis=1)\n",
    "train['weekday'] = train.apply (lambda x: weekday(x), axis=1)"
   ]
  },
  {
   "cell_type": "markdown",
   "metadata": {},
   "source": [
    "<hr style=\"height: 1.0px;\"/>\n",
    "\n",
    "### Determing if holiday or not - Caitlin\n",
    "\n",
    "* words *"
   ]
  },
  {
   "cell_type": "code",
   "execution_count": 12,
   "metadata": {},
   "outputs": [],
   "source": [
    "# CODE"
   ]
  },
  {
   "cell_type": "markdown",
   "metadata": {},
   "source": [
    "<hr style=\"height: 1.0px;\"/>\n",
    "\n",
    "### Calculate the distance travelled - Connor\n",
    "\n",
    "It might be of interest to determine how far the taxi has travelled (could help spot potential outliers)<br />\n",
    "Using the equation below: <br /><br />\n",
    "\n",
    "<center>\n",
    "       <img src=\"images/distanceEquation2.png\"><br />\n",
    "       Source: <a href=\"https://andrew.hedges.name/experiments/haversine/\">Finding distances based on Latitude and Longitude</a>\n",
    "</center>\n",
    "\n",
    "The distance between the starting location and final location will be calculated. Obviously this distance will be an approximation as it is impossible to determine the route taken. This distance will be \"as the crow flies\".\n",
    "\n",
    "<br />\n",
    "\n",
    "The distance travelled has very long tails, as a result, the distances over and under specific values could dropped?\n",
    "\n"
   ]
  },
  {
   "cell_type": "code",
   "execution_count": 18,
   "metadata": {},
   "outputs": [
    {
     "name": "stderr",
     "output_type": "stream",
     "text": [
      "/usr/local/lib/python3.7/site-packages/numpy/lib/function_base.py:780: RuntimeWarning: invalid value encountered in greater_equal\n",
      "  keep = (tmp_a >= first_edge)\n",
      "/usr/local/lib/python3.7/site-packages/numpy/lib/function_base.py:781: RuntimeWarning: invalid value encountered in less_equal\n",
      "  keep &= (tmp_a <= last_edge)\n"
     ]
    },
    {
     "data": {
      "image/png": "[encoded data removed]",
      "text/plain": [
       "<Figure size 1296x432 with 2 Axes>"
      ]
     },
     "metadata": {
      "needs_background": "light"
     },
     "output_type": "display_data"
    }
   ],
   "source": [
    "#Approximate radius of earth\n",
    "R = 3961 #Miles\n",
    "#R = 6373 #Km\n",
    "\n",
    "\n",
    "def distance(row):\n",
    "    lat1 = math.radians(row['pickup_latitude'])\n",
    "    lon1 = math.radians(row['pickup_longitude'])\n",
    "    \n",
    "    lat2 = math.radians(row['dropoff_latitude'])\n",
    "    lon2 = math.radians(row['dropoff_longitude'])\n",
    "\n",
    "    dlon = lon2 - lon1\n",
    "    dlat = lat2 - lat1\n",
    "\n",
    "    a = math.sin(dlat / 2)**2 + math.cos(lat1) * math.cos(lat2) * math.sin(dlon / 2)**2\n",
    "    c = 2 * math.atan2(math.sqrt(a), math.sqrt(1 - a))\n",
    "\n",
    "    temp = (R * c)\n",
    "    if(temp <= 0):\n",
    "        #No movement\n",
    "        return np.nan\n",
    "    return temp\n",
    "    \n",
    "train['distanceTravelled'] = train.apply (lambda x: distance(x), axis=1)\n",
    "\n",
    "#Some of the fields had no movement and as a result are dropped\n",
    "train.dropna()\n",
    "\n",
    "#Plotting the distance travelled on a histograph for observation purposes \n",
    "plt.figure(figsize=(18, 6))\n",
    "plt.subplot(1, 2, 1)\n",
    "plt.hist(train['distanceTravelled'])\n",
    "plt.title(\"Distance travelled\")\n",
    "plt.xlabel(\"Distance travelled\")\n",
    "plt.ylabel(\"Number of training records\")\n",
    "plt.subplot(1, 2, 2)\n",
    "plt.hist(np.log(train['distanceTravelled']), bins=100)\n",
    "plt.axvline(np.log(train['distanceTravelled']).mean(), color='red', linestyle='dashed', linewidth=2, label=\"Mean\")\n",
    "plt.axvline(np.log(train['distanceTravelled']).mean() + 2*np.log(train['distanceTravelled']).std(), color='green', linestyle='dashed', linewidth=1, label=\"+2 STD\")\n",
    "plt.axvline(np.log(train['distanceTravelled']).mean() + -2*np.log(train['distanceTravelled']).std(), color='green', linestyle='dashed', linewidth=1, label=\"-2 STD\")\n",
    "plt.title(\"Distance travelled - Using 100 bins\")\n",
    "plt.xlabel(\"Distance travelled (log)\")\n",
    "plt.ylabel(\"Number of training records\")\n",
    "plt.legend()\n",
    "plt.show()"
   ]
  },
  {
   "cell_type": "code",
   "execution_count": 19,
   "metadata": {},
   "outputs": [
    {
     "name": "stdout",
     "output_type": "stream",
     "text": [
      "Trips travelled further than:\n",
      "\t20 miles: 442 | 0.030%\n",
      "\t100 miles: 13 | 0.001%\n",
      "\n",
      "Trips travelled less than:\n",
      "\t0.10 miles: 9473 | 0.649%\n",
      "\t0.01 miles: 3379 | 0.232%\n",
      "\n",
      "\n",
      "Removing: 9915 rows\n"
     ]
    },
    {
     "data": {
      "image/png": "[encoded data removed]",
      "text/plain": [
       "<Figure size 1296x432 with 2 Axes>"
      ]
     },
     "metadata": {
      "needs_background": "light"
     },
     "output_type": "display_data"
    }
   ],
   "source": [
    "\n",
    "temp = train\n",
    "\n",
    "print(\"Trips travelled further than:\")\n",
    "print('\\t20 miles: %d | %0.3f%%' % (sum(temp['distanceTravelled'] > 20), (sum(temp['distanceTravelled'] > 20)/len(temp))*100))\n",
    "print('\\t100 miles: %d | %0.3f%%' % (sum(temp['distanceTravelled'] > 100), (sum(temp['distanceTravelled'] > 100)/len(temp))*100))\n",
    "print(\"\")\n",
    "\n",
    "print(\"Trips travelled less than:\")\n",
    "print('\\t0.10 miles: %d | %0.3f%%' % (sum(temp['distanceTravelled'] <= 0.1), (sum(temp['distanceTravelled'] <= 0.1)/len(temp))*100))\n",
    "print('\\t0.01 miles: %d | %0.3f%%' % (sum(temp['distanceTravelled'] <= 0.01), (sum(temp['distanceTravelled'] <= 0.01)/len(temp))*100))\n",
    "print(\"\\n\")\n",
    "\n",
    "print(\"Removing:\", sum(temp['distanceTravelled'] > 20) + sum(temp['distanceTravelled'] <= 0.1), \"rows\")\n",
    "temp = temp.drop(temp[temp.distanceTravelled > 20].index)\n",
    "temp = temp.drop(temp[temp.distanceTravelled <= 0.1].index)\n",
    "\n",
    "\n",
    "\n",
    "#Plotting the distance travelled on a histograph for observation purposes \n",
    "plt.figure(figsize=(18, 6))\n",
    "plt.subplot(1, 2, 1)\n",
    "plt.hist(temp['distanceTravelled'])\n",
    "plt.title(\"Distance travelled\")\n",
    "plt.xlabel(\"Distance travelled\")\n",
    "plt.ylabel(\"Number of training records\")\n",
    "plt.subplot(1, 2, 2)\n",
    "plt.hist(np.log(temp['distanceTravelled']), bins=100)\n",
    "plt.axvline(np.log(train['distanceTravelled']).mean(), color='red', linestyle='dashed', linewidth=2, label=\"Mean\")\n",
    "plt.axvline(np.log(train['distanceTravelled']).mean() + 2*np.log(train['distanceTravelled']).std(), color='green', linestyle='dashed', linewidth=1, label=\"+2 STD\")\n",
    "plt.axvline(np.log(train['distanceTravelled']).mean() + -2*np.log(train['distanceTravelled']).std(), color='green', linestyle='dashed', linewidth=1, label=\"-2 STD\")\n",
    "plt.title(\"Distance travelled - Using 100 bins\")\n",
    "plt.xlabel(\"Distance travelled (log)\")\n",
    "plt.ylabel(\"Number of training records\")\n",
    "plt.legend()\n",
    "plt.show()\n"
   ]
  },
  {
   "cell_type": "markdown",
   "metadata": {},
   "source": [
    "<hr style=\"height: 1.0px;\"/>\n",
    "\n",
    "### Map of Manhatten - Runyu\n",
    "\n",
    "* add words *"
   ]
  },
  {
   "cell_type": "code",
   "execution_count": null,
   "metadata": {},
   "outputs": [],
   "source": [
    "#CODE\n",
    "\n",
    "plt.figure(figsize=(20,10))\n",
    "\n",
    "train_coord = train.loc[(train.pickup_latitude > 40.6) & (train.pickup_latitude < 40.9)]\n",
    "train_coord = train_coord.loc[(train.dropoff_latitude > 40.6) & (train.dropoff_latitude < 40.9)]\n",
    "train_coord = train_coord.loc[(train.pickup_longitude > -74.05) & (train.pickup_longitude < -73.7)]\n",
    "train_coord = train_coord.loc[(train.dropoff_longitude > -74.05) & (train.dropoff_longitude < -73.7)]\n",
    "\n",
    "# Combining Pickup and Dropoff values into a list for Latitudes and Longitudes \n",
    "longitudes = list(train_coord.pickup_longitude) + list(train_coord.dropoff_longitude)\n",
    "latitudes = list(train_coord.pickup_latitude) + list(train_coord.dropoff_latitude)\n",
    "\n",
    "# Plot the latitude and Longitude values\n",
    "plt.plot(longitudes, latitudes, '.', alpha=0.6, markersize=0.05, color='purple')\n",
    "plt.xlabel('Longitude')\n",
    "plt.ylabel('Latitude')\n",
    "plt.title('City Map of NYC Trips using Latitudes and Longitudes')\n",
    "fig, (ax1, ax2) = plt.subplots(nrows=2, ncols=1, sharey=True, figsize=(20,30))\n",
    "\n",
    "train_coord.plot(kind='scatter', x='pickup_longitude', y='pickup_latitude', color='green', s=0.02, alpha=0.6, subplots=True, ax=ax1)\n",
    "train_coord.plot(kind='scatter', x='dropoff_longitude', y='dropoff_latitude', color='blue', s=0.02, alpha=0.6, subplots=True, ax=ax2)\n",
    "ax1.set_title('Taxi Trip Pickups (Long,Lat)')\n",
    "ax2.set_title('Taxi Trip Dropoffs (Long,Lat)')\n",
    "from IPython.display import Image\n",
    "\n",
    "# Load and Display Image of NYC on map\n",
    "Image('./nyc_img.png')"
   ]
  },
  {
   "cell_type": "markdown",
   "metadata": {},
   "source": [
    "<hr style=\"height: 1.0px;\"/>\n",
    "\n",
    "### Accuracy Checker - Connor\n",
    "\n",
    "In order to determine how accurate the model is, the user will have to compare the the predicted results against the actual results. There are two approaches that can be taken, an exact comparison where only a '1' will be returned if the predicted durations is exactly the same, or an approximate duration where a percentage-out is allowed"
   ]
  },
  {
   "cell_type": "code",
   "execution_count": 31,
   "metadata": {},
   "outputs": [],
   "source": [
    "def accuracy(actual, predicted, percentage=0):\n",
    "    #The two lists need to be of the same size\n",
    "    if(len(actual) != len(predicted)):\n",
    "        return np.nan\n",
    "    \n",
    "    if(percentage == 0):\n",
    "        temp = actual == predicted\n",
    "    else:\n",
    "        temp = ((actual * percentage) <= predicted) & (predicted <= ((1 + percentage) * actual))\n",
    "    \n",
    "    return (sum(temp)/len(actual)*100)    "
   ]
  },
  {
   "cell_type": "markdown",
   "metadata": {},
   "source": [
    "<hr style=\"height: 1.0px;\"/>\n",
    "\n",
    "### Plot actual vs Predicted - Tze-yi\n",
    "\n",
    "* add words *"
   ]
  },
  {
   "cell_type": "code",
   "execution_count": null,
   "metadata": {},
   "outputs": [],
   "source": [
    "#CODE"
   ]
  },
  {
   "cell_type": "markdown",
   "metadata": {},
   "source": [
    "<hr style=\"height: 1.0px;\"/>\n",
    "\n",
    "### Principal component analysis (PCA) - Tze-yi\n",
    "\n",
    "* add words *\n",
    "\n",
    "Not entirely sure what this will show, but give it ago - Connor"
   ]
  },
  {
   "cell_type": "code",
   "execution_count": null,
   "metadata": {},
   "outputs": [],
   "source": [
    "#CODE"
   ]
  },
  {
   "cell_type": "markdown",
   "metadata": {},
   "source": [
    "<hr style=\"height: 1.0px;\"/>\n",
    "\n",
    "### Training/Testing split - Tze-yi\n",
    "\n",
    "* add words *"
   ]
  },
  {
   "cell_type": "code",
   "execution_count": 20,
   "metadata": {},
   "outputs": [
    {
     "name": "stdout",
     "output_type": "stream",
     "text": [
      "Taining total set size: 1458644\n",
      "Training set size: 1093984\n",
      "Test set size: 364661\n",
      "Taining total set size: 1458644\n",
      "Training set size: 1093983\n",
      "Test set size: 364661\n"
     ]
    }
   ],
   "source": [
    "# train split to 75/25\n",
    "\n",
    "split = len(train) * 0.75\n",
    "\n",
    "train_train = train.loc[:split,:]\n",
    "train_test = train.loc[split:,:]\n",
    "\n",
    "print('Taining total set size:',train.shape[0])\n",
    "print('Training set size:', train_train.shape[0])\n",
    "print('Test set size:', train_test.shape[0])\n",
    "\n",
    "X_train, X_test = train_test_split(train, test_size=0.25)\n",
    "\n",
    "print('Taining total set size:',train.shape[0])\n",
    "print('Training set size:', X_train.shape[0])\n",
    "print('Test set size:', X_test.shape[0])"
   ]
  },
  {
   "cell_type": "markdown",
   "metadata": {},
   "source": [
    "<br />\n",
    "<hr style=\"height: 1.0px;\"/>\n",
    "\n",
    "# Machine Learning\n",
    "\n",
    "Using a variety of different Machine Learning techniques and data sources, a comparative analysis into the effectiveness and reliability of the methods will be conducted. These methods include:\n",
    " * eXtreme Gradient Boosting (XGBoosting)\n",
    " * Ada Boost\n",
    " * Random Forest\n",
    " * Neural Networks\n",
    " * K-Nearest Neighbor (KNN)\n",
    " * CAITLIN\n",
    " \n",
    "In order to gain better results, a wide range of external sources are also used. For example:\n",
    " * XGBoosting will be incorporated with:\n",
    "  * 2016 weather forecast\n",
    "  * 2016 hourly weather forecast (for comparative reaons)  \n",
    "  * OSRM\n",
    "  * Storm Warnings\n",
    "\n",
    "\n",
    "Finally, after each Machine Learning process has been trained, the features of the most importance will be determined. This will help identify the significant features for a given model.\n"
   ]
  },
  {
   "cell_type": "markdown",
   "metadata": {},
   "source": [
    "<hr style=\"height: 1.0px;\"/>\n",
    "\n",
    "### XGBoost with variational datasources - Connor\n",
    "\n",
    "In order to determine which dataset has the largest effect on the accuracy of the model, $5$ models will be created. After each model has been trained for $n$ iterations, the accuracy will be calculated from the testing dataset (25% of the training dataset). The base model will include just the given training data and no external data sources, this will give a good bench mark to work on. All other models will include one or more external sources.\n",
    "\n",
    "\n",
    "Models:\n",
    " * Default (given data)\n",
    " * 2016 daily weather\n",
    " * 2016 hourly weather\n",
    " * OSRM\n",
    " * Storm Warning\n",
    " \n",
    "Should time permit it, a combination of the above models will be used.\n",
    "\n",
    "<b>Why XGBoost?</b><br />\n",
    "words...\n",
    "\n",
    "<b>Parameters:</b><br />\n",
    "XGBoost has lots of hyper-parameters that can be fine tuned. As such, finding the optimum combination can take days of running. As a result, minimal parameter tuning will be used. For a guide on parameter tuning with XGBoost, look at [analyticsvidhya](https://www.analyticsvidhya.com/blog/2016/03/complete-guide-parameter-tuning-xgboost-with-codes-python/).\n",
    "\n",
    "NOTES:\n",
    "\n",
    "* Storm Warning:\n",
    " * This info can reduce the RMSLE in my experiments, you can refer the sample code to add the info into datasets: https://www.kaggle.com/c/nyc-taxi-trip-duration/discussion/38591#216546\n",
    "* Can we train using the lon and lat? Thinking about assigning areas rather than two seemingly random numbers?\n",
    "* 'store_and_fwd_flag' caused some problems, not sure if even needed"
   ]
  },
  {
   "cell_type": "code",
   "execution_count": 67,
   "metadata": {},
   "outputs": [
    {
     "name": "stdout",
     "output_type": "stream",
     "text": [
      "0\n"
     ]
    }
   ],
   "source": [
    "#Testing, drop where 'trip_duration' is zero\n",
    "train = train[train.trip_duration != 0]\n",
    "\n",
    "#Could consider taking the log?\n",
    "y = np.log(train['trip_duration'])\n",
    "\n",
    "#Some of the data cannot be used for training, for example, the trip duration as thats the output\n",
    "Not_train_cols = ['id','trip_duration', 'distanceTravelled', 'dropoff_longitude', \\\n",
    "                      'dropoff_latitude', 'store_and_fwd_flag']\n",
    "\n",
    "dropped_train = train.drop([col for col in Not_train_cols if col in train], axis=1)\n",
    "feature_names = list(dropped_train.columns)\n",
    "\n",
    "x_train, x_test, y_train, y_test = train_test_split(dropped_train[feature_names], y, \\\n",
    "                                                    test_size=0.25)\n",
    "\n",
    "#Creating the XGBoot matrices\n",
    "xgb_train = xgb.DMatrix(x_train.values, label=y_train.values)\n",
    "\n",
    "xgb_valid = xgb.DMatrix(x_test.values, label=y_test.values)\n",
    "watchlist = [(xgb_train, 'train'), (xgb_valid, 'valid')]"
   ]
  },
  {
   "cell_type": "code",
   "execution_count": 68,
   "metadata": {
    "scrolled": true
   },
   "outputs": [
    {
     "name": "stdout",
     "output_type": "stream",
     "text": [
      "Number predicted less than 0: (0,)\n",
      "Number predicted less than 0: (0,)\n",
      "Number predicted less than 0: (0,)\n",
      "Number predicted less than 0: (0,)\n",
      "Number predicted less than 0: (0,)\n",
      "Number predicted less than 0: (0,)\n",
      "Number predicted less than 0: (0,)\n",
      "Number predicted less than 0: (0,)\n",
      "Number predicted less than 0: (0,)\n",
      "Number predicted less than 0: (0,)\n",
      "Number predicted less than 0: (0,)\n",
      "Number predicted less than 0: (0,)\n",
      "Number predicted less than 0: (0,)\n",
      "Number predicted less than 0: (0,)\n",
      "Number predicted less than 0: (0,)\n",
      "Number predicted less than 0: (0,)\n",
      "Number predicted less than 0: (0,)\n",
      "Number predicted less than 0: (0,)\n",
      "Number predicted less than 0: (0,)\n",
      "Number predicted less than 0: (0,)\n",
      "Number predicted less than 0: (0,)\n",
      "Number predicted less than 0: (0,)\n",
      "Number predicted less than 0: (0,)\n",
      "Number predicted less than 0: (0,)\n",
      "Number predicted less than 0: (0,)\n",
      "Number predicted less than 0: (0,)\n",
      "Number predicted less than 0: (0,)\n",
      "Number predicted less than 0: (0,)\n",
      "Number predicted less than 0: (0,)\n",
      "Number predicted less than 0: (0,)\n",
      "Number predicted less than 0: (0,)\n",
      "Number predicted less than 0: (0,)\n",
      "Number predicted less than 0: (0,)\n",
      "Number predicted less than 0: (0,)\n",
      "Number predicted less than 0: (0,)\n",
      "Number predicted less than 0: (0,)\n",
      "Number predicted less than 0: (0,)\n",
      "Number predicted less than 0: (0,)\n",
      "Number predicted less than 0: (0,)\n",
      "Number predicted less than 0: (0,)\n",
      "Number predicted less than 0: (0,)\n",
      "Number predicted less than 0: (0,)\n",
      "Number predicted less than 0: (0,)\n",
      "Number predicted less than 0: (0,)\n",
      "Number predicted less than 0: (0,)\n",
      "Number predicted less than 0: (0,)\n",
      "Number predicted less than 0: (0,)\n",
      "Number predicted less than 0: (0,)\n",
      "Number predicted less than 0: (0,)\n",
      "Number predicted less than 0: (0,)\n",
      "Number predicted less than 0: (0,)\n",
      "Number predicted less than 0: (0,)\n",
      "Number predicted less than 0: (0,)\n",
      "Number predicted less than 0: (0,)\n",
      "Number predicted less than 0: (0,)\n",
      "Number predicted less than 0: (0,)\n",
      "Number predicted less than 0: (0,)\n",
      "Number predicted less than 0: (0,)\n",
      "Number predicted less than 0: (0,)\n",
      "Number predicted less than 0: (0,)\n",
      "Number predicted less than 0: (0,)\n",
      "Number predicted less than 0: (0,)\n",
      "Number predicted less than 0: (0,)\n",
      "Number predicted less than 0: (0,)\n",
      "Number predicted less than 0: (0,)\n",
      "Number predicted less than 0: (0,)\n",
      "Number predicted less than 0: (0,)\n",
      "Number predicted less than 0: (0,)\n",
      "Number predicted less than 0: (0,)\n",
      "Number predicted less than 0: (0,)\n",
      "Number predicted less than 0: (0,)\n",
      "Number predicted less than 0: (0,)\n"
     ]
    },
    {
     "data": {
      "text/plain": [
       "GridSearchCV(cv=4, error_score='raise-deprecating',\n",
       "       estimator=XGBRegressor(base_score=0.5, booster='gbtree', colsample_bylevel=1,\n",
       "       colsample_bytree=1, gamma=0, importance_type='gain',\n",
       "       learning_rate=0.08, max_delta_step=0, max_depth=3,\n",
       "       min_child_weight=1, missing=None, n_estimators=100, n_jobs=1,\n",
       "       nthread=None, objective='reg:linear', random_state=0, reg_alpha=0,\n",
       "       reg_lambda=1, scale_pos_weight=1, seed=0, silent=True,\n",
       "       subsample=0.75),\n",
       "       fit_params=None, iid='warn', n_jobs=None,\n",
       "       param_grid={'max_depth': [3, 5, 7], 'min_child_weight': [1, 3, 5]},\n",
       "       pre_dispatch='2*n_jobs', refit=True, return_train_score='warn',\n",
       "       scoring=<function rmsle at 0x1be57a6a8>, verbose=0)"
      ]
     },
     "execution_count": 68,
     "metadata": {},
     "output_type": "execute_result"
    }
   ],
   "source": [
    "#Testing\n",
    "\n",
    "#Borrow code\n",
    "from sklearn.model_selection import GridSearchCV\n",
    "\n",
    "def rmsle(evaluator,X,real):\n",
    "    sum = 0.0\n",
    "    predicted = evaluator.predict(X)\n",
    "    print(\"Number predicted less than 0: {}\".format(np.where(predicted < 0)[0].shape))\n",
    "\n",
    "    predicted[predicted < 0] = 0\n",
    "    for x in range(len(predicted)):\n",
    "        p = np.log(predicted[x]+1)\n",
    "        r = np.log(real[x]+1)\n",
    "        sum = sum + (p-r)**2\n",
    "    return (sum/len(predicted))**0.5\n",
    "\n",
    "\n",
    "cv_params = {'max_depth': [3,5,7], 'min_child_weight': [1,3,5]}\n",
    "ind_params = {'learning_rate': 0.08, 'n_estimators': 100, 'seed':0, 'subsample': 0.75, 'colsample_bytree': 1}\n",
    "optimized_GBM = GridSearchCV(xgb.XGBRegressor(**ind_params), \n",
    "                            cv_params,scoring = rmsle, cv =4) \n",
    "optimized_GBM.fit(x_train.values, np.ravel(y_train))"
   ]
  },
  {
   "cell_type": "code",
   "execution_count": 69,
   "metadata": {
    "scrolled": true
   },
   "outputs": [
    {
     "name": "stdout",
     "output_type": "stream",
     "text": [
      "93.30071856692471\n",
      "6.913737350659685  |  6.3580556\n",
      "6.498282149476434  |  6.5381484\n",
      "6.829793737512425  |  6.458058\n",
      "6.566672429803241  |  7.5177536\n",
      "6.385194398997726  |  6.529667\n",
      "6.890609120147166  |  6.4093184\n",
      "5.564520407322694  |  6.496885\n",
      "6.135564891081739  |  6.4268475\n",
      "6.940222469119639  |  6.477753\n",
      "6.298949246855942  |  6.2879524\n",
      "6.447305862541213  |  6.379732\n",
      "5.529429087511423  |  6.4702067\n",
      "5.087596335232384  |  6.3102527\n",
      "7.979338895262328  |  7.618603\n",
      "6.787844982309579  |  6.4054117\n",
      "7.787382026484701  |  6.44626\n",
      "5.517452896464707  |  6.261937\n",
      "7.421775793644647  |  6.4712014\n",
      "5.840641657373398  |  6.4466743\n",
      "6.418364935936212  |  6.3668427\n",
      "5.4116460518550396  |  6.449968\n",
      "6.470799503782602  |  6.369569\n",
      "7.418180822726788  |  7.5933\n",
      "6.22455842927536  |  6.278125\n",
      "6.340359303727752  |  6.3818927\n",
      "4.919980925828125  |  6.5404186\n",
      "6.894670039433482  |  6.3453918\n",
      "4.605170185988092  |  6.26239\n",
      "6.773080375655535  |  6.4842787\n",
      "6.507277712385012  |  6.501989\n",
      "7.074116816197362  |  6.46395\n",
      "7.093404625868766  |  6.527988\n",
      "6.113682179832232  |  6.4778295\n",
      "5.332718793265369  |  6.241187\n",
      "6.461468176353717  |  6.2874713\n",
      "7.610357618312838  |  6.5623784\n",
      "5.049856007249537  |  6.469088\n",
      "6.645090969505644  |  6.463265\n",
      "7.307202314764738  |  6.361028\n",
      "6.464588303689961  |  6.6087065\n",
      "6.570882962339584  |  6.3556004\n",
      "6.018593214496234  |  6.2773356\n",
      "6.601230118728877  |  6.3460994\n",
      "6.464588303689961  |  6.415452\n",
      "5.918893854273146  |  6.5283504\n",
      "7.312553498102598  |  6.37173\n",
      "6.1903154058531475  |  6.652216\n",
      "6.75343791859778  |  6.47043\n",
      "7.055312843339752  |  6.361123\n",
      "6.668228248417403  |  6.3483233\n",
      "5.54907608489522  |  6.45589\n",
      "6.368187186350492  |  6.4463334\n",
      "5.749392985908253  |  6.498207\n",
      "6.448889394146858  |  6.284802\n",
      "6.206575926724928  |  6.270365\n",
      "7.526178913346146  |  6.8229847\n",
      "5.476463551931511  |  6.178483\n",
      "6.285998094508865  |  6.4819946\n",
      "5.501258210544727  |  6.532072\n",
      "6.0867747269123065  |  6.51496\n",
      "7.1372784372603855  |  6.367038\n",
      "6.6052979209482015  |  6.383849\n",
      "6.481577129276431  |  6.2303004\n",
      "6.1675164908883415  |  6.3920546\n",
      "8.119993827725105  |  6.3518305\n",
      "5.4510384535657  |  6.265526\n",
      "5.953243334287785  |  6.4224286\n",
      "6.505784060128229  |  6.438151\n",
      "7.784889295655098  |  6.517847\n",
      "6.380122536899765  |  6.440446\n",
      "5.752572638825633  |  6.3757706\n",
      "3.7612001156935624  |  6.6572766\n",
      "7.0925737159746784  |  6.5597\n",
      "7.342131730584722  |  6.298239\n",
      "6.499787040655854  |  6.530488\n",
      "5.420534999272286  |  6.2624626\n",
      "7.469083884921234  |  6.4628525\n",
      "7.293697720601438  |  6.4088554\n",
      "7.53689712956617  |  6.582027\n",
      "7.171656822768514  |  6.3464055\n",
      "7.301147805856032  |  6.522238\n",
      "7.176254532017144  |  6.4513435\n",
      "7.967973179662935  |  7.469461\n",
      "7.204892510204673  |  6.570783\n",
      "5.991464547107982  |  6.3636794\n",
      "7.765993079407675  |  6.5668254\n",
      "6.322565239927284  |  6.3758507\n",
      "5.6240175061873385  |  6.194478\n",
      "6.045005314036012  |  6.5175505\n",
      "5.860786223465865  |  6.5467362\n",
      "6.954638864880987  |  6.609212\n",
      "6.104793232414985  |  6.373173\n",
      "5.676753802268282  |  6.3284726\n",
      "6.144185634125646  |  6.2750416\n",
      "7.427144133408616  |  7.4613333\n",
      "5.8522024797744745  |  6.365255\n",
      "4.875197323201151  |  6.491968\n",
      "5.627621113690637  |  6.4179077\n",
      "7.845416036592485  |  6.402619\n",
      "7.338888133838879  |  6.1759744\n"
     ]
    }
   ],
   "source": [
    "prediction = optimized_GBM.predict(x_train.values)\n",
    "\n",
    "print(accuracy(y_train, prediction, 0.2))\n",
    "\n",
    "for x in range(100):\n",
    "    print(y_train.iloc[x], \" | \", prediction[x])"
   ]
  },
  {
   "cell_type": "code",
   "execution_count": 57,
   "metadata": {
    "scrolled": true
   },
   "outputs": [
    {
     "name": "stdout",
     "output_type": "stream",
     "text": [
      "[0]\ttrain-rmse:4.24671\tvalid-rmse:4.24719\n",
      "Multiple eval metrics have been passed: 'valid-rmse' will be used for early stopping.\n",
      "\n",
      "Will train until valid-rmse hasn't improved in 50 rounds.\n",
      "[5]\ttrain-rmse:1.02685\tvalid-rmse:1.02838\n",
      "[10]\ttrain-rmse:0.7546\tvalid-rmse:0.756951\n",
      "[15]\ttrain-rmse:0.743773\tvalid-rmse:0.746415\n",
      "[20]\ttrain-rmse:0.74204\tvalid-rmse:0.744916\n",
      "[25]\ttrain-rmse:0.740316\tvalid-rmse:0.743408\n",
      "[30]\ttrain-rmse:0.739153\tvalid-rmse:0.742521\n",
      "[35]\ttrain-rmse:0.738171\tvalid-rmse:0.74175\n",
      "[40]\ttrain-rmse:0.737699\tvalid-rmse:0.741441\n",
      "[45]\ttrain-rmse:0.737078\tvalid-rmse:0.741068\n",
      "[50]\ttrain-rmse:0.73666\tvalid-rmse:0.740914\n",
      "[55]\ttrain-rmse:0.736216\tvalid-rmse:0.74063\n",
      "[60]\ttrain-rmse:0.735834\tvalid-rmse:0.740391\n",
      "[65]\ttrain-rmse:0.734936\tvalid-rmse:0.739722\n",
      "[70]\ttrain-rmse:0.734517\tvalid-rmse:0.739501\n",
      "[75]\ttrain-rmse:0.734169\tvalid-rmse:0.739357\n",
      "[80]\ttrain-rmse:0.733902\tvalid-rmse:0.739261\n",
      "[85]\ttrain-rmse:0.733698\tvalid-rmse:0.73917\n",
      "[90]\ttrain-rmse:0.733401\tvalid-rmse:0.73908\n",
      "[95]\ttrain-rmse:0.733156\tvalid-rmse:0.738992\n",
      "[100]\ttrain-rmse:0.732573\tvalid-rmse:0.738583\n",
      "[105]\ttrain-rmse:0.732348\tvalid-rmse:0.738461\n",
      "[110]\ttrain-rmse:0.731991\tvalid-rmse:0.738305\n",
      "[115]\ttrain-rmse:0.731656\tvalid-rmse:0.738181\n",
      "[120]\ttrain-rmse:0.731332\tvalid-rmse:0.738052\n",
      "[125]\ttrain-rmse:0.730967\tvalid-rmse:0.737814\n",
      "[130]\ttrain-rmse:0.730672\tvalid-rmse:0.737752\n",
      "[135]\ttrain-rmse:0.730375\tvalid-rmse:0.737644\n",
      "[140]\ttrain-rmse:0.730048\tvalid-rmse:0.737557\n",
      "[145]\ttrain-rmse:0.729842\tvalid-rmse:0.737481\n",
      "[150]\ttrain-rmse:0.72971\tvalid-rmse:0.737467\n",
      "[155]\ttrain-rmse:0.729512\tvalid-rmse:0.737392\n",
      "[160]\ttrain-rmse:0.729399\tvalid-rmse:0.737383\n",
      "[165]\ttrain-rmse:0.729238\tvalid-rmse:0.737392\n",
      "[170]\ttrain-rmse:0.728961\tvalid-rmse:0.737257\n",
      "[175]\ttrain-rmse:0.728654\tvalid-rmse:0.737038\n",
      "[180]\ttrain-rmse:0.728435\tvalid-rmse:0.737015\n",
      "[185]\ttrain-rmse:0.72824\tvalid-rmse:0.73699\n",
      "[190]\ttrain-rmse:0.728074\tvalid-rmse:0.73698\n",
      "[195]\ttrain-rmse:0.727898\tvalid-rmse:0.736998\n",
      "[200]\ttrain-rmse:0.72774\tvalid-rmse:0.736961\n",
      "[205]\ttrain-rmse:0.727574\tvalid-rmse:0.736914\n",
      "[210]\ttrain-rmse:0.727442\tvalid-rmse:0.736925\n",
      "[215]\ttrain-rmse:0.727315\tvalid-rmse:0.736935\n",
      "[220]\ttrain-rmse:0.727145\tvalid-rmse:0.736941\n",
      "[225]\ttrain-rmse:0.726978\tvalid-rmse:0.736943\n",
      "[230]\ttrain-rmse:0.726757\tvalid-rmse:0.736827\n",
      "[235]\ttrain-rmse:0.726629\tvalid-rmse:0.736837\n",
      "[240]\ttrain-rmse:0.726504\tvalid-rmse:0.736864\n",
      "[245]\ttrain-rmse:0.726347\tvalid-rmse:0.736839\n",
      "[250]\ttrain-rmse:0.726195\tvalid-rmse:0.736846\n",
      "[255]\ttrain-rmse:0.72609\tvalid-rmse:0.736808\n",
      "[260]\ttrain-rmse:0.725965\tvalid-rmse:0.736753\n",
      "[265]\ttrain-rmse:0.725765\tvalid-rmse:0.73675\n",
      "[270]\ttrain-rmse:0.725581\tvalid-rmse:0.736735\n",
      "[275]\ttrain-rmse:0.725436\tvalid-rmse:0.736709\n",
      "[280]\ttrain-rmse:0.725326\tvalid-rmse:0.736726\n",
      "[285]\ttrain-rmse:0.725167\tvalid-rmse:0.736641\n",
      "[290]\ttrain-rmse:0.724976\tvalid-rmse:0.736617\n",
      "[295]\ttrain-rmse:0.724862\tvalid-rmse:0.736618\n",
      "[300]\ttrain-rmse:0.724695\tvalid-rmse:0.736631\n",
      "[305]\ttrain-rmse:0.724566\tvalid-rmse:0.736612\n",
      "[310]\ttrain-rmse:0.724433\tvalid-rmse:0.736647\n",
      "[315]\ttrain-rmse:0.724293\tvalid-rmse:0.736652\n",
      "[320]\ttrain-rmse:0.724182\tvalid-rmse:0.736664\n",
      "[325]\ttrain-rmse:0.724056\tvalid-rmse:0.736674\n",
      "[330]\ttrain-rmse:0.723907\tvalid-rmse:0.736661\n",
      "[335]\ttrain-rmse:0.723715\tvalid-rmse:0.736637\n",
      "[340]\ttrain-rmse:0.723572\tvalid-rmse:0.736674\n",
      "Stopping. Best iteration:\n",
      "[292]\ttrain-rmse:0.724917\tvalid-rmse:0.736604\n",
      "\n"
     ]
    }
   ],
   "source": [
    "#dtrain = xgb.DMatrix(train_x, label=train_y)\n",
    "#dvalid = xgb.DMatrix(val_x, label=val_y)\n",
    "#dtest = xgb.DMatrix(new_df_test.values)\n",
    "#watchlist = [(dtrain, 'train'), (dvalid, 'valid')]\n",
    "\n",
    "xgb_params = {'colsample_bytee': 0.7, 'subsample':0.7, 'booster': 'gbtree', 'max_depth': 5, 'eval_metric': 'rmse', \\\n",
    "              'objective': 'reg:linear', 'seed': 4321}\n",
    "\n",
    "xgb_pars = {'min_child_weight': 100, 'eta': 0.1, 'colsample_bytree': 0.7, 'max_depth': 15,\n",
    "            'subsample': 0.8, 'lambda': 1., 'nthread': -1, 'booster' : 'gbtree', 'silent': 1,\n",
    "            'eval_metric': 'rmse', 'objective': 'reg:linear'}\n",
    "\n",
    "model_xgb = xgb.train(xgb_params, xgb_train, 500, watchlist, early_stopping_rounds=50,\n",
    "                  maximize=False, verbose_eval=5)\n"
   ]
  },
  {
   "cell_type": "code",
   "execution_count": 61,
   "metadata": {},
   "outputs": [
    {
     "ename": "AttributeError",
     "evalue": "'numpy.ndarray' object has no attribute 'feature_names'",
     "output_type": "error",
     "traceback": [
      "\u001b[0;31m---------------------------------------------------------------------------\u001b[0m",
      "\u001b[0;31mAttributeError\u001b[0m                            Traceback (most recent call last)",
      "\u001b[0;32m<ipython-input-61-cad8a3a4161c>\u001b[0m in \u001b[0;36m<module>\u001b[0;34m\u001b[0m\n\u001b[0;32m----> 1\u001b[0;31m \u001b[0mpred\u001b[0m \u001b[0;34m=\u001b[0m \u001b[0mmodel_xgb\u001b[0m\u001b[0;34m.\u001b[0m\u001b[0mpredict\u001b[0m\u001b[0;34m(\u001b[0m\u001b[0mx_train\u001b[0m\u001b[0;34m.\u001b[0m\u001b[0mvalues\u001b[0m\u001b[0;34m)\u001b[0m\u001b[0;34m\u001b[0m\u001b[0m\n\u001b[0m\u001b[1;32m      2\u001b[0m \u001b[0;34m\u001b[0m\u001b[0m\n\u001b[1;32m      3\u001b[0m \u001b[0mprint\u001b[0m\u001b[0;34m(\u001b[0m\u001b[0maccuracy\u001b[0m\u001b[0;34m(\u001b[0m\u001b[0mnp\u001b[0m\u001b[0;34m.\u001b[0m\u001b[0mlog\u001b[0m\u001b[0;34m(\u001b[0m\u001b[0my_train\u001b[0m\u001b[0;34m)\u001b[0m\u001b[0;34m,\u001b[0m \u001b[0mpred\u001b[0m\u001b[0;34m,\u001b[0m \u001b[0;36m0.2\u001b[0m\u001b[0;34m)\u001b[0m\u001b[0;34m)\u001b[0m\u001b[0;34m\u001b[0m\u001b[0m\n\u001b[1;32m      4\u001b[0m \u001b[0;34m\u001b[0m\u001b[0m\n\u001b[1;32m      5\u001b[0m \u001b[0;32mfor\u001b[0m \u001b[0mx\u001b[0m \u001b[0;32min\u001b[0m \u001b[0mrange\u001b[0m\u001b[0;34m(\u001b[0m\u001b[0;36m50\u001b[0m\u001b[0;34m)\u001b[0m\u001b[0;34m:\u001b[0m\u001b[0;34m\u001b[0m\u001b[0m\n",
      "\u001b[0;32m/usr/local/lib/python3.7/site-packages/xgboost/core.py\u001b[0m in \u001b[0;36mpredict\u001b[0;34m(self, data, output_margin, ntree_limit, pred_leaf, pred_contribs, approx_contribs, pred_interactions, validate_features)\u001b[0m\n\u001b[1;32m   1283\u001b[0m \u001b[0;34m\u001b[0m\u001b[0m\n\u001b[1;32m   1284\u001b[0m         \u001b[0;32mif\u001b[0m \u001b[0mvalidate_features\u001b[0m\u001b[0;34m:\u001b[0m\u001b[0;34m\u001b[0m\u001b[0m\n\u001b[0;32m-> 1285\u001b[0;31m             \u001b[0mself\u001b[0m\u001b[0;34m.\u001b[0m\u001b[0m_validate_features\u001b[0m\u001b[0;34m(\u001b[0m\u001b[0mdata\u001b[0m\u001b[0;34m)\u001b[0m\u001b[0;34m\u001b[0m\u001b[0m\n\u001b[0m\u001b[1;32m   1286\u001b[0m \u001b[0;34m\u001b[0m\u001b[0m\n\u001b[1;32m   1287\u001b[0m         \u001b[0mlength\u001b[0m \u001b[0;34m=\u001b[0m \u001b[0mc_bst_ulong\u001b[0m\u001b[0;34m(\u001b[0m\u001b[0;34m)\u001b[0m\u001b[0;34m\u001b[0m\u001b[0m\n",
      "\u001b[0;32m/usr/local/lib/python3.7/site-packages/xgboost/core.py\u001b[0m in \u001b[0;36m_validate_features\u001b[0;34m(self, data)\u001b[0m\n\u001b[1;32m   1675\u001b[0m         \u001b[0;32melse\u001b[0m\u001b[0;34m:\u001b[0m\u001b[0;34m\u001b[0m\u001b[0m\n\u001b[1;32m   1676\u001b[0m             \u001b[0;31m# Booster can't accept data with different feature names\u001b[0m\u001b[0;34m\u001b[0m\u001b[0;34m\u001b[0m\u001b[0m\n\u001b[0;32m-> 1677\u001b[0;31m             \u001b[0;32mif\u001b[0m \u001b[0mself\u001b[0m\u001b[0;34m.\u001b[0m\u001b[0mfeature_names\u001b[0m \u001b[0;34m!=\u001b[0m \u001b[0mdata\u001b[0m\u001b[0;34m.\u001b[0m\u001b[0mfeature_names\u001b[0m\u001b[0;34m:\u001b[0m\u001b[0;34m\u001b[0m\u001b[0m\n\u001b[0m\u001b[1;32m   1678\u001b[0m                 \u001b[0mdat_missing\u001b[0m \u001b[0;34m=\u001b[0m \u001b[0mset\u001b[0m\u001b[0;34m(\u001b[0m\u001b[0mself\u001b[0m\u001b[0;34m.\u001b[0m\u001b[0mfeature_names\u001b[0m\u001b[0;34m)\u001b[0m \u001b[0;34m-\u001b[0m \u001b[0mset\u001b[0m\u001b[0;34m(\u001b[0m\u001b[0mdata\u001b[0m\u001b[0;34m.\u001b[0m\u001b[0mfeature_names\u001b[0m\u001b[0;34m)\u001b[0m\u001b[0;34m\u001b[0m\u001b[0m\n\u001b[1;32m   1679\u001b[0m                 \u001b[0mmy_missing\u001b[0m \u001b[0;34m=\u001b[0m \u001b[0mset\u001b[0m\u001b[0;34m(\u001b[0m\u001b[0mdata\u001b[0m\u001b[0;34m.\u001b[0m\u001b[0mfeature_names\u001b[0m\u001b[0;34m)\u001b[0m \u001b[0;34m-\u001b[0m \u001b[0mset\u001b[0m\u001b[0;34m(\u001b[0m\u001b[0mself\u001b[0m\u001b[0;34m.\u001b[0m\u001b[0mfeature_names\u001b[0m\u001b[0;34m)\u001b[0m\u001b[0;34m\u001b[0m\u001b[0m\n",
      "\u001b[0;31mAttributeError\u001b[0m: 'numpy.ndarray' object has no attribute 'feature_names'"
     ]
    }
   ],
   "source": [
    "pred = model_xgb.predict(x_train)\n",
    "\n",
    "print(accuracy(np.log(y_train), pred, 0.2))\n",
    "\n",
    "for x in range(50):\n",
    "    print(np.log(y_train.iloc[x]), \" | \", pred[x])"
   ]
  },
  {
   "cell_type": "code",
   "execution_count": 39,
   "metadata": {},
   "outputs": [
    {
     "name": "stdout",
     "output_type": "stream",
     "text": [
      "12\n",
      "1093978\n"
     ]
    }
   ],
   "source": [
    "#Training the basic model \n",
    "#model_xgb = xgb.train('default', short_XGB_train)\n",
    "\n",
    "\n",
    "xgb_val = xgb.DMatrix(x_test.values, label=y_test.values)\n",
    "watchlist = [(xgb_train, 'train'), (xgb_val, 'valid')]\n",
    "\n",
    "\n",
    "#Not using these are the mo\n",
    "xgb_pars = {'min_child_weight': 100, 'eta': 0.1, 'colsample_bytree': 0.7, 'max_depth': 15,\n",
    "            'subsample': 0.8, 'lambda': 1., 'nthread': -1, 'booster' : 'gbtree', 'silent': 1,\n",
    "            'eval_metric': 'rmse', 'objective': 'reg:linear'}\n",
    "\n",
    "\n",
    "print(xgb_train.num_col())\n",
    "print(xgb_train.num_row())\n",
    "\n",
    "#model_xgb = xgb.train('default', xgb_train, 500, watchlist, early_stopping_rounds=50,\n",
    "#                  maximize=False, verbose_eval=20)"
   ]
  },
  {
   "cell_type": "code",
   "execution_count": 10,
   "metadata": {},
   "outputs": [],
   "source": [
    "#Training the model with ...\n",
    "#CODE"
   ]
  },
  {
   "cell_type": "markdown",
   "metadata": {},
   "source": [
    "<hr style=\"height: 1.0px;\"/>\n",
    "\n",
    "### Ada Boost - Tze-yi\n",
    "\n",
    "* words *"
   ]
  },
  {
   "cell_type": "code",
   "execution_count": null,
   "metadata": {},
   "outputs": [],
   "source": [
    "#CODE"
   ]
  },
  {
   "cell_type": "markdown",
   "metadata": {},
   "source": [
    "<hr style=\"height: 1.0px;\"/>\n",
    "\n",
    "### kNN - Runyu\n",
    "\n",
    "* words *"
   ]
  },
  {
   "cell_type": "code",
   "execution_count": 13,
   "metadata": {},
   "outputs": [],
   "source": [
    "#CODE"
   ]
  },
  {
   "cell_type": "markdown",
   "metadata": {},
   "source": [
    "<hr style=\"height: 1.0px;\"/>\n",
    "\n",
    "### Random Forrest - Leyan\n",
    "\n",
    "* words *"
   ]
  },
  {
   "cell_type": "code",
   "execution_count": 14,
   "metadata": {},
   "outputs": [],
   "source": [
    "#CODE"
   ]
  },
  {
   "cell_type": "markdown",
   "metadata": {},
   "source": [
    "<hr style=\"height: 1.0px;\"/>\n",
    "\n",
    "### Neural Network - Leyan\n",
    "\n",
    "* words *"
   ]
  },
  {
   "cell_type": "code",
   "execution_count": 15,
   "metadata": {},
   "outputs": [],
   "source": [
    "#CODE"
   ]
  },
  {
   "cell_type": "markdown",
   "metadata": {},
   "source": [
    "<hr style=\"height: 1.0px;\"/>\n",
    "\n",
    "### ...  - Caitlin\n",
    "\n",
    "* words *"
   ]
  },
  {
   "cell_type": "code",
   "execution_count": 16,
   "metadata": {},
   "outputs": [],
   "source": [
    "#CODE"
   ]
  },
  {
   "cell_type": "markdown",
   "metadata": {},
   "source": [
    "<hr style=\"height: 1.0px;\"/>\n",
    "\n",
    "### Frankenstein's Monster Regression Model - SOMEBODY\n",
    "\n",
    "Can some one programme a method that takes $n$ models as input and takes 'x' data as input and calls the 'test' method from each model? \n"
   ]
  },
  {
   "cell_type": "code",
   "execution_count": 17,
   "metadata": {},
   "outputs": [],
   "source": [
    "#CODE"
   ]
  }
 ],
 "metadata": {
  "kernelspec": {
   "display_name": "Python 3",
   "language": "python",
   "name": "python3"
  },
  "language_info": {
   "codemirror_mode": {
    "name": "ipython",
    "version": 3
   },
   "file_extension": ".py",
   "mimetype": "text/x-python",
   "name": "python",
   "nbconvert_exporter": "python",
   "pygments_lexer": "ipython3",
   "version": "3.7.0"
  }
 },
 "nbformat": 4,
 "nbformat_minor": 2
}
